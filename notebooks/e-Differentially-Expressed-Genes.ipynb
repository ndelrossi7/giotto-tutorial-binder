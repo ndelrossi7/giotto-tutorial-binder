{
 "cells": [
  {
   "cell_type": "markdown",
   "id": "amateur-battery",
   "metadata": {},
   "source": [
    "# Marker Gene Detection\n",
    "In this notebook we will use a pre-clustered Giotto object (using Leiden clustering). We'll go over the following methods for detecting gene markers:\n",
    "- Gini-index method\n",
    "- using Scran\n",
    "- using Mast\n",
    "\n",
    "Each method can either identify marker genes between 2 selected (groups of) clusters or for each individual cluster."
   ]
  },
  {
   "cell_type": "markdown",
   "id": "talented-ribbon",
   "metadata": {},
   "source": [
    "We'll directly import the Leiden clustered data below. "
   ]
  },
  {
   "cell_type": "code",
   "execution_count": null,
   "id": "average-dylan",
   "metadata": {
    "scrolled": true
   },
   "outputs": [],
   "source": [
    "source(\"scripts//clustered_obj.R\")"
   ]
  },
  {
   "cell_type": "markdown",
   "id": "digital-airline",
   "metadata": {},
   "source": [
    "### 1. Gini-index method\n",
    "We can use the gini index method between [2 groups](https://rubd.github.io/Giotto_site/reference/findGiniMarkers.html) of clusters:"
   ]
  },
  {
   "cell_type": "code",
   "execution_count": null,
   "id": "hindu-deviation",
   "metadata": {},
   "outputs": [],
   "source": [
    "# between 2 groups\n",
    "gini_markers = findGiniMarkers(gobject = my_giotto_object,\n",
    "                               cluster_column = 'leiden_clus',\n",
    "                               group_1 = 1,\n",
    "                               group_2 = 2)"
   ]
  },
  {
   "cell_type": "markdown",
   "id": "cellular-forty",
   "metadata": {},
   "source": [
    "Or between one group and all the [others](https://rubd.github.io/Giotto_site/reference/findGiniMarkers_one_vs_all.html):"
   ]
  },
  {
   "cell_type": "code",
   "execution_count": null,
   "id": "convenient-channel",
   "metadata": {},
   "outputs": [],
   "source": [
    "# for each cluster\n",
    "gini_markers = findGiniMarkers_one_vs_all(gobject = my_giotto_object,\n",
    "                                          cluster_column = 'leiden_clus')"
   ]
  },
  {
   "cell_type": "markdown",
   "id": "naughty-sleeping",
   "metadata": {},
   "source": [
    "### 2. Scran\n",
    "\n",
    "Please note that you'll need to [install scran](https://bioconductor.org/packages/release/bioc/html/scran.html) if working locally. It has already been pre-loaded in the Binder environment for this notebook. \n",
    "\n",
    "Now we'll check out scran's implementation of finding markers [between 2 groups](https://rubd.github.io/Giotto_site/reference/findScranMarkers.html):"
   ]
  },
  {
   "cell_type": "code",
   "execution_count": null,
   "id": "lasting-generation",
   "metadata": {},
   "outputs": [],
   "source": [
    "# between 2 groups\n",
    "scran_markers = findScranMarkers(gobject = my_giotto_object,\n",
    "                                 cluster_column = 'leiden_clus',\n",
    "                                 group_1 = 1,\n",
    "                                 group_2 = 2)"
   ]
  },
  {
   "cell_type": "markdown",
   "id": "packed-romania",
   "metadata": {},
   "source": [
    "Or between one group and all the [others](https://rubd.github.io/Giotto_site/reference/findScranMarkers_one_vs_all.html):"
   ]
  },
  {
   "cell_type": "code",
   "execution_count": null,
   "id": "featured-logistics",
   "metadata": {},
   "outputs": [],
   "source": [
    "# for each cluster\n",
    "scran_markers = findScranMarkers_one_vs_all(gobject = my_giotto_object,\n",
    "                                            cluster_column = 'leiden_clus')"
   ]
  },
  {
   "cell_type": "markdown",
   "id": "unauthorized-ownership",
   "metadata": {},
   "source": [
    "### 3. MAST\n",
    "You'll also need to [install MAST](https://bioconductor.org/packages/3.12/bioc/html/MAST.html) if working locally. It's been pre-loaded in the Binder environment for this notebook.\n",
    "\n",
    "We can look at MAST's implementation between [2 cluster groups](https://rubd.github.io/Giotto_site/reference/findMastMarkers.html):"
   ]
  },
  {
   "cell_type": "code",
   "execution_count": null,
   "id": "sustainable-stranger",
   "metadata": {},
   "outputs": [],
   "source": [
    "# between 2 groups\n",
    "mast_markers = findMastMarkers(gobject = my_giotto_object,\n",
    "                                cluster_column = 'leiden_clus',\n",
    "                                group_1 = 1,\n",
    "                                group_2 = 2)"
   ]
  },
  {
   "cell_type": "markdown",
   "id": "russian-catholic",
   "metadata": {},
   "source": [
    "Or between [all groups](https://rubd.github.io/Giotto_site/reference/findMastMarkers_one_vs_all.html):"
   ]
  },
  {
   "cell_type": "code",
   "execution_count": null,
   "id": "western-advance",
   "metadata": {},
   "outputs": [],
   "source": [
    "# for each cluster\n",
    "mast_markers = findMastMarkers_one_vs_all(gobject = my_giotto_object,\n",
    "                                          cluster_column = 'leiden_clus')"
   ]
  },
  {
   "cell_type": "markdown",
   "id": "acquired-differential",
   "metadata": {},
   "source": [
    "### 4. All markers\n",
    "We can also use a wrapper to use all three of the above methods for [2 groups](https://rubd.github.io/Giotto_site/reference/findMarkers.html):"
   ]
  },
  {
   "cell_type": "code",
   "execution_count": null,
   "id": "limiting-technical",
   "metadata": {},
   "outputs": [],
   "source": [
    "all_markers = findMarkers(gobject = my_giotto_object, \n",
    "                          cluster_column = 'leiden_clus',\n",
    "                          group_1 = 1,\n",
    "                          group_2 = 2)"
   ]
  },
  {
   "cell_type": "markdown",
   "id": "thousand-plain",
   "metadata": {},
   "source": [
    "Or for [all groups](https://rubd.github.io/Giotto_site/reference/findMarkers_one_vs_all.html):"
   ]
  },
  {
   "cell_type": "code",
   "execution_count": null,
   "id": "illegal-kingdom",
   "metadata": {},
   "outputs": [],
   "source": [
    "# for each cluster\n",
    "all_markers = findMarkers_one_vs_all(gobject = my_giotto_object,\n",
    "                                          cluster_column = 'leiden_clus')"
   ]
  }
 ],
 "metadata": {
  "kernelspec": {
   "display_name": "R",
   "language": "R",
   "name": "ir"
  },
  "language_info": {
   "codemirror_mode": "r",
   "file_extension": ".r",
   "mimetype": "text/x-r-source",
   "name": "R",
   "pygments_lexer": "r",
   "version": "4.0.4"
  }
 },
 "nbformat": 4,
 "nbformat_minor": 5
}
