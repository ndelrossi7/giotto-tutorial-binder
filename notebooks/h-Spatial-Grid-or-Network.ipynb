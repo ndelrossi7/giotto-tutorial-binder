{
 "cells": [
  {
   "cell_type": "markdown",
   "id": "diagnostic-timothy",
   "metadata": {},
   "source": [
    "# Spatial Grids and Networks\n",
    "\n",
    "In the following notebook we'll go through creating a spatial grid and/or network with Giotto. We'll first import our Leiden clustered object:"
   ]
  },
  {
   "cell_type": "code",
   "execution_count": null,
   "id": "excess-union",
   "metadata": {},
   "outputs": [],
   "source": [
    "source(\"scripts//clustered_obj.R\")"
   ]
  },
  {
   "cell_type": "markdown",
   "id": "following-belly",
   "metadata": {},
   "source": [
    "### 1. Spatial Grid\n",
    "We can start with creating a [spatial grid](https://rubd.github.io/Giotto_site/reference/createSpatialGrid.html):"
   ]
  },
  {
   "cell_type": "code",
   "execution_count": null,
   "id": "coupled-arctic",
   "metadata": {},
   "outputs": [],
   "source": [
    "my_giotto_object <- createSpatialGrid(gobject = my_giotto_object,\n",
    "                                            sdimx_stepsize = 250,\n",
    "                                            sdimy_stepsize = 250,\n",
    "                                            minimum_padding = 50)\n",
    "\n",
    "# visualize grid\n",
    "spatPlot(gobject = my_giotto_object, \n",
    "         show_grid = T, \n",
    "         point_size = 1.5)[0]"
   ]
  },
  {
   "cell_type": "markdown",
   "id": "labeled-handy",
   "metadata": {},
   "source": [
    "We can create another grid and see which grids we have available:"
   ]
  },
  {
   "cell_type": "code",
   "execution_count": null,
   "id": "interpreted-performer",
   "metadata": {},
   "outputs": [],
   "source": [
    "# create another larger grid\n",
    "my_giotto_object <- createSpatialGrid(gobject = my_giotto_object,\n",
    "                                            sdimx_stepsize = 350,\n",
    "                                            sdimy_stepsize = 350,\n",
    "                                            minimum_padding = 50, \n",
    "                                            name = 'large_grid')\n",
    "\n",
    "# show available grids\n",
    "showGrids(my_giotto_object)"
   ]
  },
  {
   "cell_type": "markdown",
   "id": "straight-thumb",
   "metadata": {},
   "source": [
    "And then visualize based on the grid we want to look at"
   ]
  },
  {
   "cell_type": "code",
   "execution_count": null,
   "id": "rational-contribution",
   "metadata": {
    "scrolled": true
   },
   "outputs": [],
   "source": [
    "# visualize larger grid\n",
    "spatPlot2D(gobject = my_giotto_object, point_size = 1.5, \n",
    "           show_grid = T, spatial_grid_name = 'large_grid')[0]"
   ]
  },
  {
   "cell_type": "markdown",
   "id": "decent-australia",
   "metadata": {},
   "source": [
    "### 2. Spatial Network\n",
    "We'll start by looking at the [Delaunay network](https://rubd.github.io/Giotto_site/reference/plotStatDelaunayNetwork.html)"
   ]
  },
  {
   "cell_type": "code",
   "execution_count": null,
   "id": "accepted-interference",
   "metadata": {},
   "outputs": [],
   "source": [
    "# get information about the Delaunay network\n",
    "plotStatDelaunayNetwork(gobject = my_giotto_object, maximum_distance = 400)[0]"
   ]
  },
  {
   "cell_type": "markdown",
   "id": "domestic-cycling",
   "metadata": {},
   "source": [
    "Now we'll create a sptial network (Delaunay network is the default):"
   ]
  },
  {
   "cell_type": "code",
   "execution_count": null,
   "id": "beneficial-symphony",
   "metadata": {},
   "outputs": [],
   "source": [
    "# create a spatial network, the Delaunay network is the default network\n",
    "# default name = 'Delaunay_network'\n",
    "my_giotto_object = createSpatialNetwork(gobject = my_giotto_object, minimum_k = 2, \n",
    "                                    maximum_distance_delaunay = 400)"
   ]
  },
  {
   "cell_type": "markdown",
   "id": "expected-backup",
   "metadata": {},
   "source": [
    "And visualize:"
   ]
  },
  {
   "cell_type": "code",
   "execution_count": null,
   "id": "korean-hamilton",
   "metadata": {
    "scrolled": true
   },
   "outputs": [],
   "source": [
    "spatPlot(gobject = my_giotto_object, show_network = T,\n",
    "         network_color = 'blue', spatial_network_name = 'Delaunay_network',\n",
    "         point_size = 2.5, cell_color = 'cell_types')[0]"
   ]
  },
  {
   "cell_type": "markdown",
   "id": "helpful-humidity",
   "metadata": {},
   "source": [
    "We can make another network - this time we'll do a kNN network:"
   ]
  },
  {
   "cell_type": "code",
   "execution_count": null,
   "id": "about-proceeding",
   "metadata": {
    "scrolled": true
   },
   "outputs": [],
   "source": [
    "# create a kNN network with 4 spatial neighbors\n",
    "# default name = 'kNN_network'\n",
    "my_giotto_object = createSpatialNetwork(gobject = my_giotto_object, minimum_k = 2, \n",
    "                                    method = 'kNN', k = 4)"
   ]
  },
  {
   "cell_type": "markdown",
   "id": "olive-welsh",
   "metadata": {},
   "source": [
    "And visualize:"
   ]
  },
  {
   "cell_type": "code",
   "execution_count": null,
   "id": "deluxe-province",
   "metadata": {},
   "outputs": [],
   "source": [
    "spatPlot(gobject = my_giotto_object, show_network = T,\n",
    "         network_color = 'blue', spatial_network_name = 'kNN_network',\n",
    "         point_size = 2.5, cell_color = 'cell_types')[0]"
   ]
  },
  {
   "cell_type": "markdown",
   "id": "dynamic-comfort",
   "metadata": {},
   "source": [
    "We can also take a look at the [different spatial networks](https://rubd.github.io/Giotto_site/reference/showNetworks.html) we've created:"
   ]
  },
  {
   "cell_type": "code",
   "execution_count": null,
   "id": "statewide-structure",
   "metadata": {},
   "outputs": [],
   "source": [
    "# show available networks\n",
    "showNetworks(my_giotto_object)"
   ]
  }
 ],
 "metadata": {
  "kernelspec": {
   "display_name": "R",
   "language": "R",
   "name": "ir"
  },
  "language_info": {
   "codemirror_mode": "r",
   "file_extension": ".r",
   "mimetype": "text/x-r-source",
   "name": "R",
   "pygments_lexer": "r",
   "version": "4.0.4"
  }
 },
 "nbformat": 4,
 "nbformat_minor": 5
}
