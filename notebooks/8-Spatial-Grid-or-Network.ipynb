{
 "cells": [
  {
   "cell_type": "markdown",
   "id": "surface-darkness",
   "metadata": {},
   "source": [
    "# Spatial Grids and Networks\n",
    "\n",
    "In the following notebook we'll go through creating a spatial grid and/or network with Giotto. We'll first import our Leiden clustered object:"
   ]
  },
  {
   "cell_type": "code",
   "execution_count": 1,
   "id": "departmental-prefix",
   "metadata": {},
   "outputs": [
    {
     "name": "stderr",
     "output_type": "stream",
     "text": [
      "Skipping install of 'Giotto' from a github remote, the SHA1 (1b60529f) has not changed since last install.\n",
      "  Use `force = TRUE` to force installation\n",
      "\n"
     ]
    },
    {
     "name": "stdout",
     "output_type": "stream",
     "text": [
      "\n",
      " giotto environment found at \n",
      " /Users/natalie_dr/Library/r-miniconda/envs/giotto_env/bin/pythonw \n",
      "Giotto environment is already installed, set force_environment = TRUE to reinstall \n",
      "Consider to install these (optional) packages to run all possible Giotto commands:  scran MAST tiff biomaRt trendsceek multinet RTriangle FactoMiner\n",
      " Giotto does not automatically install all these packages as they are not absolutely required and this reduces the number of dependencies\n",
      " no external python path was provided, but a giotto python environment was found and will be used \n",
      "\n",
      " first scale genes and then cells \n",
      "return_plot = TRUE and return_gobject = TRUE \n",
      "\n",
      "          plot will not be returned to object, but can still be saved with save_plot = TRUE or manually \n",
      "hvg  was found in the gene metadata information and will be used to select highly variable genes \n"
     ]
    },
    {
     "name": "stderr",
     "output_type": "stream",
     "text": [
      "Warning message in (function (A, nv = 5, nu = nv, maxit = 1000, work = nv + 7, reorth = TRUE, :\n",
      "“You're computing too large a percentage of total singular values, use a standard svd instead.”\n"
     ]
    }
   ],
   "source": [
    "source(\"scripts//clustered_obj.R\")"
   ]
  },
  {
   "cell_type": "markdown",
   "id": "imposed-champagne",
   "metadata": {},
   "source": [
    "### 1. Spatial Grid"
   ]
  },
  {
   "cell_type": "code",
   "execution_count": null,
   "id": "dependent-composer",
   "metadata": {},
   "outputs": [],
   "source": []
  }
 ],
 "metadata": {
  "kernelspec": {
   "display_name": "R",
   "language": "R",
   "name": "ir"
  },
  "language_info": {
   "codemirror_mode": "r",
   "file_extension": ".r",
   "mimetype": "text/x-r-source",
   "name": "R",
   "pygments_lexer": "r",
   "version": "4.0.4"
  }
 },
 "nbformat": 4,
 "nbformat_minor": 5
}
