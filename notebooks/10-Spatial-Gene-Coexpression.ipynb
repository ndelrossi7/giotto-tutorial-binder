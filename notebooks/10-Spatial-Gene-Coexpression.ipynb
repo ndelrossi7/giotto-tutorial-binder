{
 "cells": [
  {
   "cell_type": "markdown",
   "id": "pressing-career",
   "metadata": {},
   "source": [
    "# Spatial Gene Coexpression\n",
    "\n",
    "---\n",
    "First, we need to import our spatial data that's been pre-processed:"
   ]
  },
  {
   "cell_type": "code",
   "execution_count": null,
   "id": "iraqi-alignment",
   "metadata": {
    "scrolled": true
   },
   "outputs": [],
   "source": [
    "source(\"scripts//spatial_pre_process.R\")"
   ]
  },
  {
   "cell_type": "markdown",
   "id": "capable-mountain",
   "metadata": {},
   "source": [
    "We also need to run binSpect to identify genes with a spatial coherent expression profile:"
   ]
  },
  {
   "cell_type": "code",
   "execution_count": null,
   "id": "australian-stable",
   "metadata": {},
   "outputs": [],
   "source": [
    "# identify genes with a spatial coherent expression profile\n",
    "km_spatialgenes = binSpect(my_giotto_object, bin_method = 'kmeans')"
   ]
  },
  {
   "cell_type": "markdown",
   "id": "downtown-typing",
   "metadata": {},
   "source": [
    "### 1. Spatial correlation\n",
    "Calculate [spatial correlation scores](https://rubd.github.io/Giotto_site/reference/detectSpatialCorGenes.html):"
   ]
  },
  {
   "cell_type": "code",
   "execution_count": null,
   "id": "aggressive-zimbabwe",
   "metadata": {},
   "outputs": [],
   "source": [
    "ext_spatial_genes = km_spatialgenes[1:500]$genes\n",
    "spat_cor_netw_DT = detectSpatialCorGenes(my_giotto_object,\n",
    "                                         method = 'network', \n",
    "                                         spatial_network_name = 'Delaunay_network',\n",
    "                                         subset_genes = ext_spatial_genes)"
   ]
  },
  {
   "cell_type": "markdown",
   "id": "broke-ireland",
   "metadata": {},
   "source": [
    "### 2. Cluster correlation scores:\n",
    "[Clustering](https://rubd.github.io/Giotto_site/reference/clusterSpatialCorGenes.html):"
   ]
  },
  {
   "cell_type": "code",
   "execution_count": null,
   "id": "appointed-capability",
   "metadata": {},
   "outputs": [],
   "source": [
    "spat_cor_netw_DT = clusterSpatialCorGenes(spat_cor_netw_DT, \n",
    "                                          name = 'spat_netw_clus', k = 8)\n",
    "heatmSpatialCorGenes(my_giotto_object, spatCorObject = spat_cor_netw_DT, \n",
    "                     use_clus_name = 'spat_netw_clus')"
   ]
  },
  {
   "cell_type": "markdown",
   "id": "ceramic-annotation",
   "metadata": {},
   "source": [
    "### 3. Network ranks\n",
    "[Rank](https://rubd.github.io/Giotto_site/reference/rankSpatialCorGroups.html) spatial correlation clusters based on how similar they are:"
   ]
  },
  {
   "cell_type": "code",
   "execution_count": null,
   "id": "after-fusion",
   "metadata": {},
   "outputs": [],
   "source": [
    "netw_ranks = rankSpatialCorGroups(my_giotto_object, \n",
    "                                  spatCorObject = spat_cor_netw_DT, \n",
    "                                  use_clus_name = 'spat_netw_clus')"
   ]
  },
  {
   "cell_type": "markdown",
   "id": "dedicated-chest",
   "metadata": {},
   "source": [
    "### 4. Cluster information\n",
    "See info about [clusters](https://rubd.github.io/Giotto_site/reference/showSpatialCorGenes.html):"
   ]
  },
  {
   "cell_type": "code",
   "execution_count": null,
   "id": "reverse-neighborhood",
   "metadata": {},
   "outputs": [],
   "source": [
    "top_netw_spat_cluster = showSpatialCorGenes(spat_cor_netw_DT, \n",
    "                                            use_clus_name = 'spat_netw_clus',\n",
    "                                            selected_clusters = 6, \n",
    "                                            show_top_genes = 1)\n",
    "\n",
    "cluster_genes_DT = showSpatialCorGenes(spat_cor_netw_DT, \n",
    "                                       use_clus_name = 'spat_netw_clus',\n",
    "                                       show_top_genes = 1)\n",
    "\n",
    "cluster_genes = cluster_genes_DT$clus; names(cluster_genes) = cluster_genes_DT$gene_ID"
   ]
  },
  {
   "cell_type": "markdown",
   "id": "extensive-poverty",
   "metadata": {},
   "source": [
    "### 5. Visualize\n",
    "First we want to [create metagenes](https://rubd.github.io/Giotto_site/reference/createMetagenes.html) and then visualize:"
   ]
  },
  {
   "cell_type": "code",
   "execution_count": null,
   "id": "horizontal-porcelain",
   "metadata": {},
   "outputs": [],
   "source": [
    "my_giotto_object = createMetagenes(my_giotto_object, gene_clusters = cluster_genes, name = 'cluster_metagene')\n",
    "spatCellPlot(my_giotto_object,\n",
    "             spat_enr_names = 'cluster_metagene',\n",
    "             cell_annotation_values = netw_ranks$clusters,\n",
    "             point_size = 1.5, cow_n_col = 3)[0]"
   ]
  }
 ],
 "metadata": {
  "kernelspec": {
   "display_name": "R",
   "language": "R",
   "name": "ir"
  },
  "language_info": {
   "codemirror_mode": "r",
   "file_extension": ".r",
   "mimetype": "text/x-r-source",
   "name": "R",
   "pygments_lexer": "r",
   "version": "4.0.4"
  }
 },
 "nbformat": 4,
 "nbformat_minor": 5
}
