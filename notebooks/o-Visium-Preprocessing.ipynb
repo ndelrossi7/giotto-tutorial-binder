{
 "cells": [
  {
   "cell_type": "markdown",
   "id": "direct-creator",
   "metadata": {},
   "source": [
    "# Visium pipeline runthrough\n",
    "------\n",
    "In this notebook, we'll go through how to utilize Giotto for visium data. While there are some notebooks that will use visium data in this tutorial, the majority use the seqFISH dataset. You can use this notebook or the script ```vis_obj.R``` as reference."
   ]
  },
  {
   "cell_type": "markdown",
   "id": "fluid-spring",
   "metadata": {},
   "source": [
    "First, we'll install Giotto:"
   ]
  },
  {
   "cell_type": "code",
   "execution_count": null,
   "id": "empirical-steam",
   "metadata": {},
   "outputs": [],
   "source": [
    "remotes::install_github(\"RubD/Giotto@cless\")"
   ]
  },
  {
   "cell_type": "markdown",
   "id": "capital-galaxy",
   "metadata": {},
   "source": [
    "And load Giotto:"
   ]
  },
  {
   "cell_type": "code",
   "execution_count": null,
   "id": "composed-custody",
   "metadata": {
    "scrolled": true
   },
   "outputs": [],
   "source": [
    "library(Giotto)"
   ]
  },
  {
   "cell_type": "markdown",
   "id": "european-protein",
   "metadata": {},
   "source": [
    "Now we can define our expression, location, and python paths:"
   ]
  },
  {
   "cell_type": "code",
   "execution_count": null,
   "id": "dutch-tamil",
   "metadata": {},
   "outputs": [],
   "source": [
    "# expresstion path\n",
    "expr_path = system.file(\"extdata\", \"visium_DG_expr.txt\", package = 'Giotto')\n",
    "# spatial locations path\n",
    "loc_path = system.file(\"extdata\", \"visium_DG_locs.txt\", package = 'Giotto')\n",
    "# python path\n",
    "my_instructions = createGiottoInstructions(python_path = \"/srv/conda/envs/notebook/bin/python\")"
   ]
  },
  {
   "cell_type": "markdown",
   "id": "possible-filling",
   "metadata": {},
   "source": [
    "And finally, we can create our Giotto object:"
   ]
  },
  {
   "cell_type": "code",
   "execution_count": null,
   "id": "little-washer",
   "metadata": {},
   "outputs": [],
   "source": [
    "my_visium_object <- createGiottoObject(raw_exprs = expr_path,\n",
    "                                       spatial_locs = loc_path,\n",
    "                                       instructions = my_instructions)"
   ]
  },
  {
   "cell_type": "markdown",
   "id": "compound-ocean",
   "metadata": {},
   "source": [
    "Now we can read in the image associated with this dataset:"
   ]
  },
  {
   "cell_type": "code",
   "execution_count": null,
   "id": "instant-surge",
   "metadata": {},
   "outputs": [],
   "source": [
    "# read image\n",
    "png_path = system.file(\"extdata\", \"deg_image.png\", package = 'Giotto')\n",
    "mg_img = magick::image_read(png_path)"
   ]
  },
  {
   "cell_type": "markdown",
   "id": "square-teens",
   "metadata": {},
   "source": [
    "First, we can look at the image and we'll see that we need to fix the alignment:"
   ]
  },
  {
   "cell_type": "code",
   "execution_count": null,
   "id": "lasting-criterion",
   "metadata": {},
   "outputs": [],
   "source": [
    "mypl = spatPlot(my_visium_object, return_plot = T, point_alpha = 0.8)"
   ]
  },
  {
   "cell_type": "code",
   "execution_count": null,
   "id": "subjective-sewing",
   "metadata": {},
   "outputs": [],
   "source": [
    "# test and modify image alignment\n",
    "orig_png = createGiottoImage(gobject = my_visium_object, mg_object = mg_img, name = 'image',\n",
    "                             xmax_adj = 450, xmin_adj = 550,\n",
    "                             ymax_adj = 200, ymin_adj = 200)\n",
    "mypl_image = addGiottoImageToSpatPlot(mypl, orig_png)\n",
    "mypl_image\n"
   ]
  },
  {
   "cell_type": "markdown",
   "id": "brave-brake",
   "metadata": {},
   "source": [
    "And now we can add the image to our Giotto object:"
   ]
  },
  {
   "cell_type": "code",
   "execution_count": null,
   "id": "clinical-perry",
   "metadata": {},
   "outputs": [],
   "source": [
    "# add image to Giotto object\n",
    "\n",
    "image_list = list(orig_png)\n",
    "my_visium_object = addGiottoImage(gobject = my_visium_object,\n",
    "                             images = image_list)\n",
    "showGiottoImageNames(my_visium_object)"
   ]
  },
  {
   "cell_type": "markdown",
   "id": "cheap-signature",
   "metadata": {},
   "source": [
    "We can inspect our data to explore gene and cell distribution as well as combinations:"
   ]
  },
  {
   "cell_type": "code",
   "execution_count": null,
   "id": "modified-warning",
   "metadata": {},
   "outputs": [],
   "source": [
    "# explore gene and cell distribution\n",
    "filterDistributions(my_visium_object, detection = 'genes')\n",
    "filterDistributions(my_visium_object, detection = 'cells')\n",
    "filterCombinations(my_visium_object,\n",
    "                   expression_thresholds = c(1),\n",
    "                   gene_det_in_min_cells = c(20, 20, 50, 50),\n",
    "                   min_det_genes_per_cell = c(100, 200, 100, 200))"
   ]
  },
  {
   "cell_type": "markdown",
   "id": "statistical-series",
   "metadata": {},
   "source": [
    "Now we filter and normalize our object:"
   ]
  },
  {
   "cell_type": "code",
   "execution_count": null,
   "id": "printable-chemistry",
   "metadata": {},
   "outputs": [],
   "source": [
    "# filter and normalize\n",
    "my_visium_object <- filterGiotto(gobject = my_visium_object,\n",
    "                            expression_threshold = 1,\n",
    "                            gene_det_in_min_cells = 50,\n",
    "                            min_det_genes_per_cell = 100,\n",
    "                            expression_values = c('raw'),\n",
    "                            verbose = T)\n",
    "my_visium_object <- normalizeGiotto(gobject = my_visium_object, scalefactor = 6000, verbose = T)"
   ]
  },
  {
   "cell_type": "markdown",
   "id": "future-numbers",
   "metadata": {},
   "source": [
    "We'll add cell and gene statistics below:"
   ]
  },
  {
   "cell_type": "code",
   "execution_count": null,
   "id": "advance-madness",
   "metadata": {},
   "outputs": [],
   "source": [
    "my_visium_object <- addStatistics(gobject = my_visium_object)"
   ]
  },
  {
   "cell_type": "markdown",
   "id": "graphic-simulation",
   "metadata": {},
   "source": [
    "Calculate highly variable genes:"
   ]
  },
  {
   "cell_type": "code",
   "execution_count": null,
   "id": "unavailable-photograph",
   "metadata": {},
   "outputs": [],
   "source": [
    "my_visium_object <- calculateHVG(gobject = my_visium_object)"
   ]
  },
  {
   "cell_type": "markdown",
   "id": "bronze-reservoir",
   "metadata": {},
   "source": [
    "Run and visualize our PCA:"
   ]
  },
  {
   "cell_type": "code",
   "execution_count": null,
   "id": "invalid-following",
   "metadata": {},
   "outputs": [],
   "source": [
    "my_visium_object <- runPCA(gobject = my_visium_object)\n",
    "screePlot(my_visium_object, ncp = 30)[0]\n",
    "plotPCA(gobject = my_visium_object)[0]"
   ]
  },
  {
   "cell_type": "markdown",
   "id": "surgical-commonwealth",
   "metadata": {},
   "source": [
    "UMAP:"
   ]
  },
  {
   "cell_type": "code",
   "execution_count": null,
   "id": "lucky-group",
   "metadata": {},
   "outputs": [],
   "source": [
    "my_visium_object <- runUMAP(my_visium_object, dimensions_to_use = 1:10)\n",
    "plotUMAP(gobject = my_visium_object)[0]"
   ]
  },
  {
   "cell_type": "markdown",
   "id": "korean-programmer",
   "metadata": {},
   "source": [
    "And tSNE"
   ]
  },
  {
   "cell_type": "code",
   "execution_count": null,
   "id": "polar-subscription",
   "metadata": {},
   "outputs": [],
   "source": [
    "my_visium_object <- runtSNE(my_visium_object, dimensions_to_use = 1:10)\n",
    "plotTSNE(gobject = my_visium_object)[0]"
   ]
  },
  {
   "cell_type": "markdown",
   "id": "armed-subdivision",
   "metadata": {},
   "source": [
    "Now we can perform some clustering and inspect our data table to show which cluster each observation belongs to:"
   ]
  },
  {
   "cell_type": "code",
   "execution_count": null,
   "id": "temporal-blast",
   "metadata": {},
   "outputs": [],
   "source": [
    "# create nearest network before we run any clustering\n",
    "my_visium_object <- createNearestNetwork(gobject = my_visium_object, dimensions_to_use = 1:10, k = 20)\n",
    "# leiden cluster\n",
    "my_visium_object <- doLeidenCluster(gobject = my_visium_object, resolution = 0.4, n_iterations = 1000)\n",
    "\n",
    "# inspect data\n",
    "head(pDataDT(my_visium_object), 10)"
   ]
  },
  {
   "cell_type": "markdown",
   "id": "traditional-oakland",
   "metadata": {},
   "source": [
    "Below we can look at some diferent visualizations:"
   ]
  },
  {
   "cell_type": "code",
   "execution_count": null,
   "id": "useful-germany",
   "metadata": {},
   "outputs": [],
   "source": [
    "# visualize UMAP cluster results\n",
    "plotUMAP(gobject = my_visium_object, cell_color = 'leiden_clus', show_NN_network = T, point_size = 2.5)"
   ]
  },
  {
   "cell_type": "code",
   "execution_count": null,
   "id": "polish-savage",
   "metadata": {},
   "outputs": [],
   "source": [
    "# visualize UMAP and spatial results\n",
    "spatDimPlot(gobject = my_visium_object, cell_color = 'leiden_clus', spat_point_shape = 'voronoi')"
   ]
  },
  {
   "cell_type": "code",
   "execution_count": null,
   "id": "protecting-twins",
   "metadata": {},
   "outputs": [],
   "source": [
    "# visualize heatmap\n",
    "showClusterHeatmap(gobject = my_visium_object, cluster_column = 'leiden_clus')"
   ]
  },
  {
   "cell_type": "code",
   "execution_count": null,
   "id": "trained-israeli",
   "metadata": {},
   "outputs": [],
   "source": [
    "# visualize dendrogram\n",
    "showClusterDendrogram(my_visium_object, h = 0.5, rotate = T, cluster_column = 'leiden_clus')"
   ]
  }
 ],
 "metadata": {
  "kernelspec": {
   "display_name": "R",
   "language": "R",
   "name": "ir"
  },
  "language_info": {
   "codemirror_mode": "r",
   "file_extension": ".r",
   "mimetype": "text/x-r-source",
   "name": "R",
   "pygments_lexer": "r",
   "version": "4.0.4"
  }
 },
 "nbformat": 4,
 "nbformat_minor": 5
}
