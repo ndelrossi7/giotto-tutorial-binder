{
 "cells": [
  {
   "cell_type": "markdown",
   "id": "younger-retailer",
   "metadata": {},
   "source": [
    "# Spatial Gene Detection Tools\n",
    "\n",
    "---\n",
    "We need to pre-process our data and we will be importing it below:"
   ]
  },
  {
   "cell_type": "code",
   "execution_count": null,
   "id": "medium-gospel",
   "metadata": {},
   "outputs": [],
   "source": [
    "source(\"scripts//spatial_pre_process.R\")"
   ]
  },
  {
   "cell_type": "markdown",
   "id": "forty-heart",
   "metadata": {},
   "source": [
    "### 1. binSpect k-means\n",
    "We'll start with the [binSpect](https://rubd.github.io/Giotto_site/reference/binSpect.html) k-means method:"
   ]
  },
  {
   "cell_type": "code",
   "execution_count": null,
   "id": "known-ocean",
   "metadata": {},
   "outputs": [],
   "source": [
    "# binSpect kmeans\n",
    "\n",
    "km_spatialgenes = binSpect(my_giotto_object, bin_method = \"kmeans\")\n",
    "\n",
    "spatGenePlot(my_giotto_object, \n",
    "             expression_values = \"scaled\",\n",
    "             genes = km_spatialgenes[1:2]$genes,\n",
    "             point_size = 3,\n",
    "             point_shape = \"border\",\n",
    "             point_border_stroke = 0.1,\n",
    "             cow_n_col = 2)[0]"
   ]
  },
  {
   "cell_type": "markdown",
   "id": "sunset-parker",
   "metadata": {},
   "source": [
    "### 2. binSpect rank method"
   ]
  },
  {
   "cell_type": "code",
   "execution_count": null,
   "id": "activated-practitioner",
   "metadata": {},
   "outputs": [],
   "source": [
    "# binSpect rank method\n",
    "rnk_spatialgenes = binSpect(my_giotto_object, bin_method = 'rank')\n",
    "\n",
    "spatGenePlot(my_giotto_object, expression_values = 'scaled', \n",
    "             genes = rnk_spatialgenes[1:2]$genes, point_size = 3,\n",
    "             point_shape = 'border', point_border_stroke = 0.1, cow_n_col = 2)[0]"
   ]
  },
  {
   "cell_type": "markdown",
   "id": "copyrighted-implementation",
   "metadata": {},
   "source": [
    "### 3. Silhouette rank method\n",
    "We can also take a look at the [silhouette rank](https://rubd.github.io/Giotto_site/reference/silhouetteRank.html) method:"
   ]
  },
  {
   "cell_type": "code",
   "execution_count": null,
   "id": "offensive-pattern",
   "metadata": {},
   "outputs": [],
   "source": [
    "# silhouetteRank method\n",
    "silh_spatialgenes = silhouetteRank(my_giotto_object)\n",
    "\n",
    "spatGenePlot(my_giotto_object, expression_values = 'scaled', \n",
    "             genes = silh_spatialgenes[1:2]$genes,  point_size = 3,\n",
    "             point_shape = 'border', point_border_stroke = 0.1, cow_n_col = 2)[0]"
   ]
  },
  {
   "cell_type": "markdown",
   "id": "knowing-agreement",
   "metadata": {},
   "source": [
    "### 4. Other methods\n",
    "\n",
    "We recommend you check out the instructions [here](https://rubd.github.io/Giotto_site/articles/tut9_giotto_spatgenes.html#run-spatial-gene-detection-methods) for spatialIDE, spark, and trendsceek methods. They are too computationally intensive for the servers offered by binder but can be run locally."
   ]
  }
 ],
 "metadata": {
  "kernelspec": {
   "display_name": "R",
   "language": "R",
   "name": "ir"
  },
  "language_info": {
   "codemirror_mode": "r",
   "file_extension": ".r",
   "mimetype": "text/x-r-source",
   "name": "R",
   "pygments_lexer": "r",
   "version": "4.0.4"
  }
 },
 "nbformat": 4,
 "nbformat_minor": 5
}
