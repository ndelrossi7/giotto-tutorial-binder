{
 "cells": [
  {
   "cell_type": "markdown",
   "id": "disabled-lewis",
   "metadata": {},
   "source": [
    "# Clustering\n",
    "In this notebook we'll walk through the steps to set up a nearest neighbor network and a few different clustering algorithms. \n",
    "\n",
    "--------"
   ]
  },
  {
   "cell_type": "markdown",
   "id": "sudden-geometry",
   "metadata": {},
   "source": [
    "We're going to directly import our pre-processed Giotto object that we've demonstrated in previous notebooks. The code for this import is in this [script](https://github.com/ndelrossi7/r-conda-binder/blob/main/scripts/preprocess.R).\n",
    "\n",
    "\n",
    "(_Note: It will generate a plot for highly variable genes. You can either disregard this or run additional plots based on some examples from this [notebook](https://github.com/ndelrossi7/r-conda-binder/blob/main/notebooks/3-Dimensionality-Reduction.ipynb)_"
   ]
  },
  {
   "cell_type": "code",
   "execution_count": null,
   "id": "intensive-vocabulary",
   "metadata": {},
   "outputs": [],
   "source": [
    "# you may have to run this cell twice if you get an error first\n",
    "# setwd(dirname(getwd()))\n",
    "source(\"scripts/preprocess.R\")"
   ]
  },
  {
   "cell_type": "markdown",
   "id": "defensive-trash",
   "metadata": {},
   "source": [
    "### 1. Nearest neighbor network\n",
    "To start, we'll generate a [nearest neighbor network](https://rubd.github.io/Giotto_site/reference/createNearestNetwork.html).\n",
    "We'll create a shared nearest neighbor (sNN) network in this example, but you can also use a k-nearest neighbor (kNN) network. This will be based on your provided dimension reduction space. You can also run this without any dimensionality reduction. "
   ]
  },
  {
   "cell_type": "code",
   "execution_count": null,
   "id": "cleared-interference",
   "metadata": {},
   "outputs": [],
   "source": [
    "my_giotto_object <- createNearestNetwork(\n",
    "  my_giotto_object,\n",
    "  type = \"sNN\", \n",
    "  dim_reduction_to_use = \"pca\",\n",
    "  dim_reduction_name = \"pca\",\n",
    "  dimensions_to_use = 1:10,\n",
    "  genes_to_use = NULL,\n",
    "  expression_values = c(\"normalized\", \"scaled\", \"custom\"),\n",
    "  name = \"sNN.pca\",\n",
    "  return_gobject = TRUE,\n",
    "  k = 30,\n",
    "  minimum_shared = 5,\n",
    "  top_shared = 3,\n",
    "  verbose = T,\n",
    ")"
   ]
  },
  {
   "cell_type": "markdown",
   "id": "brown-pizza",
   "metadata": {},
   "source": [
    "## We can now begin some clustering:"
   ]
  },
  {
   "cell_type": "markdown",
   "id": "excess-elder",
   "metadata": {},
   "source": [
    "### 2. Leiden clustering\n",
    "\n",
    "Below we will use the [Leiden](https://rubd.github.io/Giotto_site/reference/doLeidenCluster.html) community detection algorithm."
   ]
  },
  {
   "cell_type": "code",
   "execution_count": null,
   "id": "ranking-presence",
   "metadata": {},
   "outputs": [],
   "source": [
    "# run Leiden cluster\n",
    "my_giotto_object = doLeidenCluster(\n",
    "  my_giotto_object, \n",
    "  name = 'leiden_clus')\n",
    "\n",
    "# Plot results\n",
    "plotUMAP_2D(my_giotto_object, cell_color = 'leiden_clus', point_size = 3)[0]"
   ]
  },
  {
   "cell_type": "markdown",
   "id": "leading-framing",
   "metadata": {},
   "source": [
    "### 3. Louvain clustering\n",
    "\n",
    "Clustering with the [Louvain](https://rubd.github.io/Giotto_site/reference/doLouvainCluster.html) algorithm."
   ]
  },
  {
   "cell_type": "code",
   "execution_count": null,
   "id": "humanitarian-palmer",
   "metadata": {},
   "outputs": [],
   "source": [
    "# run Louvain cluster\n",
    "my_giotto_object = doLouvainCluster(my_giotto_object, name = 'louvain_clus')\n",
    "\n",
    "# plot\n",
    "plotUMAP_2D(my_giotto_object, cell_color = 'louvain_clus', point_size = 3)[0]"
   ]
  },
  {
   "cell_type": "markdown",
   "id": "through-rainbow",
   "metadata": {},
   "source": [
    "### 4. K-means clustering\n",
    "Perform [K-means](https://rubd.github.io/Giotto_site/reference/doKmeans.html) clustering."
   ]
  },
  {
   "cell_type": "code",
   "execution_count": null,
   "id": "nervous-focus",
   "metadata": {},
   "outputs": [],
   "source": [
    "# run k-means\n",
    "my_giotto_object = doKmeans(my_giotto_object, centers = 4, name = 'kmeans_clus')\n",
    "\n",
    "# plot\n",
    "plotUMAP_2D(my_giotto_object, cell_color = 'kmeans_clus', point_size = 3)[0]"
   ]
  },
  {
   "cell_type": "markdown",
   "id": "pressing-chile",
   "metadata": {},
   "source": [
    "### 5. Hierarchical Clustering\n",
    "Perform [hierarchical](https://rubd.github.io/Giotto_site/reference/doHclust.html) clustering. "
   ]
  },
  {
   "cell_type": "code",
   "execution_count": null,
   "id": "subsequent-horizon",
   "metadata": {},
   "outputs": [],
   "source": [
    "my_giotto_object = doHclust(my_giotto_object, k = 4, name = 'hier_clus')\n",
    "plotUMAP_2D(my_giotto_object, cell_color = 'hier_clus', point_size = 3)[0]"
   ]
  },
  {
   "cell_type": "markdown",
   "id": "extended-package",
   "metadata": {},
   "source": [
    "### 6. Cluster similarities\n",
    "Here we can create a data table with pairwise correlation scores between each cluster and number of cells to check for [similarities](https://rubd.github.io/Giotto_site/reference/getClusterSimilarity.html). "
   ]
  },
  {
   "cell_type": "code",
   "execution_count": null,
   "id": "sorted-satin",
   "metadata": {},
   "outputs": [],
   "source": [
    "# calculate cluster similarities to see how individual clusters are correlated\n",
    "cluster_similarities = getClusterSimilarity(my_giotto_object,\n",
    "                                            cluster_column = 'leiden_clus')\n",
    "\n",
    "# see a preview of what we're comparing\n",
    "head(pDataDT(my_giotto_object), 10)"
   ]
  },
  {
   "cell_type": "markdown",
   "id": "sunrise-trace",
   "metadata": {},
   "source": [
    "### 7. Merge similarities\n",
    "We can also [merge](https://rubd.github.io/Giotto_site/reference/mergeClusters.html) selected clusters based on our pairwise correlation scores & cluster size. "
   ]
  },
  {
   "cell_type": "code",
   "execution_count": null,
   "id": "scheduled-wisdom",
   "metadata": {},
   "outputs": [],
   "source": [
    "# merge similar clusters based on correlation and size parameters\n",
    "my_giotto_object = mergeClusters(my_giotto_object, \n",
    "                                        cluster_column = 'leiden_clus', \n",
    "                                        min_cor_score = 0.7, \n",
    "                                        force_min_group_size = 4)"
   ]
  },
  {
   "cell_type": "markdown",
   "id": "seven-animal",
   "metadata": {},
   "source": [
    "### 8. Dendrogram splits\n",
    "We can also split the [dendrogram](https://rubd.github.io/Giotto_site/reference/getDendrogramSplits.html) at each node. "
   ]
  },
  {
   "cell_type": "code",
   "execution_count": null,
   "id": "nonprofit-manner",
   "metadata": {
    "scrolled": true
   },
   "outputs": [],
   "source": [
    "splits = getDendrogramSplits(my_giotto_object, cluster_column = 'merged_cluster')"
   ]
  },
  {
   "cell_type": "markdown",
   "id": "adjustable-liabilities",
   "metadata": {},
   "source": [
    "### 9. Subclustering\n",
    "\n",
    "Finally, we can [subcluster](https://rubd.github.io/Giotto_site/reference/doLeidenSubCluster.html) cells using the Leiden algorithm. "
   ]
  },
  {
   "cell_type": "code",
   "execution_count": null,
   "id": "derived-consent",
   "metadata": {},
   "outputs": [],
   "source": [
    "# Perform subclustering\n",
    "my_giotto_object = doLeidenSubCluster(gobject = my_giotto_object, cluster_column = 'merged_cluster',\n",
    "                             resolution = 0.2, k_neighbors = 10,\n",
    "                             hvg_param = list(method = 'cov_loess', difference_in_cov = 0.1),\n",
    "                             pca_param = list(expression_values = 'normalized', scale_unit = F),\n",
    "                             nn_param = list(dimensions_to_use = 1:5),\n",
    "                             selected_clusters = c(5, 6, 7),\n",
    "                             name = 'sub_leiden_clus_select')\n",
    "\n",
    "## set colors for clusters\n",
    "subleiden_order = c( 1.1, 5.1, 5.2,  2.1, 3.1,\n",
    "                     4.1, 6.2, 6.1,\n",
    "                     7.1,  7.2, 9.1, 8.1)\n",
    "subleiden_colors = Giotto:::getDistinctColors(length(subleiden_order)) \n",
    "names(subleiden_colors) = subleiden_order\n",
    "\n",
    "# visualize\n",
    "plotUMAP(gobject = my_giotto_object,\n",
    "         cell_color = 'sub_leiden_clus_select', cell_color_code = subleiden_colors,\n",
    "         show_NN_network = T, point_size = 2.5, show_center_label = F, \n",
    "         legend_text = 12, legend_symbol_size = 3,\n",
    "         save_param = list(save_name = '4_b_UMAP_leiden_subcluster'))[0]"
   ]
  }
 ],
 "metadata": {
  "kernelspec": {
   "display_name": "R",
   "language": "R",
   "name": "ir"
  },
  "language_info": {
   "codemirror_mode": "r",
   "file_extension": ".r",
   "mimetype": "text/x-r-source",
   "name": "R",
   "pygments_lexer": "r",
   "version": "4.0.4"
  }
 },
 "nbformat": 4,
 "nbformat_minor": 5
}
