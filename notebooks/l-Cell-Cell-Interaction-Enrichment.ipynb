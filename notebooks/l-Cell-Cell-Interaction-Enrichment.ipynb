{
 "cells": [
  {
   "cell_type": "markdown",
   "id": "absolute-louisville",
   "metadata": {},
   "source": [
    "# Cell-cell interaction analysis and visualization\n",
    "---\n",
    "First, we will import our spatial pre-processing script and run binSpect:"
   ]
  },
  {
   "cell_type": "code",
   "execution_count": null,
   "id": "cellular-youth",
   "metadata": {},
   "outputs": [],
   "source": [
    "source(\"scripts//spatial_pre_process.R\")\n",
    "\n",
    "# identify genes with a spatial coherent expression profile\n",
    "km_spatialgenes = binSpect(my_giotto_object, bin_method = 'kmeans')"
   ]
  },
  {
   "cell_type": "markdown",
   "id": "fluid-commodity",
   "metadata": {},
   "source": [
    "### 1. Cell-cell interaction\n",
    "\n",
    "Now, we'll run [cell proximity enrichment](https://rubd.github.io/Giotto_site/reference/cellProximityEnrichment.html) to assess cell-cell interaction:"
   ]
  },
  {
   "cell_type": "code",
   "execution_count": null,
   "id": "sapphire-living",
   "metadata": {},
   "outputs": [],
   "source": [
    "set.seed(seed = 2841)\n",
    "cell_proximities = cellProximityEnrichment(gobject = my_giotto_object,\n",
    "                                           cluster_column = 'cell_types',\n",
    "                                           spatial_network_name = 'Delaunay_network',\n",
    "                                           adjust_method = 'fdr',\n",
    "                                           number_of_simulations = 1000)"
   ]
  },
  {
   "cell_type": "markdown",
   "id": "concerned-trash",
   "metadata": {},
   "source": [
    "### 2. Visualize cell-cell interaction\n",
    "\n",
    "We'll use a variety of different visualizations to inspect our cell-cell interaction:\n",
    "- [proximity barplot](https://rubd.github.io/Giotto_site/reference/cellProximityBarplot.html)\n",
    "- [proximity heatmap](https://rubd.github.io/Giotto_site/reference/cellProximityHeatmap.html)\n",
    "- [proximity network](https://rubd.github.io/Giotto_site/reference/cellProximityNetwork.html)"
   ]
  },
  {
   "cell_type": "code",
   "execution_count": null,
   "id": "damaged-promise",
   "metadata": {},
   "outputs": [],
   "source": [
    "# barplot\n",
    "cellProximityBarplot(gobject = my_giotto_object, \n",
    "                     CPscore = cell_proximities, \n",
    "                     min_orig_ints = 3, min_sim_ints = 3)[0]"
   ]
  },
  {
   "cell_type": "code",
   "execution_count": null,
   "id": "stopped-least",
   "metadata": {},
   "outputs": [],
   "source": [
    "head(as.data.frame(cell_proximities), 10)"
   ]
  },
  {
   "cell_type": "code",
   "execution_count": null,
   "id": "distinct-knife",
   "metadata": {},
   "outputs": [],
   "source": [
    "# heatmap\n",
    "cellProximityHeatmap(gobject = my_giotto_object, \n",
    "                     CPscore = cell_proximities, \n",
    "                     order_cell_types = T, scale = T,\n",
    "                     color_breaks = c(-1.5, 0, 1.5), \n",
    "                     color_names = c('blue', 'white', 'red'))"
   ]
  },
  {
   "cell_type": "code",
   "execution_count": null,
   "id": "fundamental-collector",
   "metadata": {},
   "outputs": [],
   "source": [
    "# network\n",
    "cellProximityNetwork(gobject = my_giotto_object, \n",
    "                     CPscore = cell_proximities, \n",
    "                     remove_self_edges = T, only_show_enrichment_edges = T)"
   ]
  },
  {
   "cell_type": "code",
   "execution_count": null,
   "id": "focused-operation",
   "metadata": {},
   "outputs": [],
   "source": [
    "# network with self-edges\n",
    "cellProximityNetwork(gobject = my_giotto_object, \n",
    "                     CPscore = cell_proximities,\n",
    "                     remove_self_edges = F, self_loop_strength = 0.3,\n",
    "                     only_show_enrichment_edges = F,\n",
    "                     rescale_edge_weights = T,\n",
    "                     node_size = 8,\n",
    "                     edge_weight_range_depletion = c(1, 2),\n",
    "                     edge_weight_range_enrichment = c(2,5))"
   ]
  },
  {
   "cell_type": "markdown",
   "id": "revised-truth",
   "metadata": {},
   "source": [
    "### 3. Visualize at the spatial level"
   ]
  },
  {
   "cell_type": "code",
   "execution_count": null,
   "id": "public-substance",
   "metadata": {},
   "outputs": [],
   "source": [
    "# Option 1\n",
    "spec_interaction = \"cell_type_1--cell_type_4\"\n",
    "cellProximitySpatPlot2D(gobject = my_giotto_object,\n",
    "                        interaction_name = spec_interaction,\n",
    "                        show_network = T,\n",
    "                        cluster_column = 'cell_types',\n",
    "                        cell_color = 'cell_types',\n",
    "                        cell_color_code = c('cell_type_1' = 'lightblue', 'cell_type_4' = 'red'),\n",
    "                        point_size_select = 4, point_size_other = 2)[0]"
   ]
  },
  {
   "cell_type": "code",
   "execution_count": null,
   "id": "continental-sunglasses",
   "metadata": {},
   "outputs": [],
   "source": [
    "# Option 2: create additional metadata\n",
    "my_giotto_object = addCellIntMetadata(my_giotto_object,\n",
    "                             spatial_network = 'Delaunay_network',\n",
    "                             cluster_column = 'cell_types',\n",
    "                             cell_interaction = spec_interaction,\n",
    "                             name = '1_4_interactions')\n",
    "\n",
    "\n",
    "spatPlot(my_giotto_object, cell_color = '1_4_interactions', legend_symbol_size = 3,\n",
    "         select_cell_groups =  c('other_cell_type_1', 'other_cell_type_4', 'select_cell_type_1', 'select_cell_type_4'))[0]"
   ]
  }
 ],
 "metadata": {
  "kernelspec": {
   "display_name": "R",
   "language": "R",
   "name": "ir"
  },
  "language_info": {
   "codemirror_mode": "r",
   "file_extension": ".r",
   "mimetype": "text/x-r-source",
   "name": "R",
   "pygments_lexer": "r",
   "version": "4.0.4"
  }
 },
 "nbformat": 4,
 "nbformat_minor": 5
}
