{
 "cells": [
  {
   "cell_type": "markdown",
   "id": "constant-elite",
   "metadata": {},
   "source": [
    "# Spot enrichment tools\n"
   ]
  },
  {
   "cell_type": "markdown",
   "id": "little-structure",
   "metadata": {},
   "source": [
    "We need to go through all of the clustering steps before we can run any of these commands. We'll import a script that does all of this for us. If you'd like more information you can find it [here]."
   ]
  },
  {
   "cell_type": "code",
   "execution_count": null,
   "id": "hybrid-martin",
   "metadata": {},
   "outputs": [],
   "source": [
    "source(\"scripts//visium_obj.R\")"
   ]
  }
 ],
 "metadata": {
  "kernelspec": {
   "display_name": "R",
   "language": "R",
   "name": "ir"
  },
  "language_info": {
   "codemirror_mode": "r",
   "file_extension": ".r",
   "mimetype": "text/x-r-source",
   "name": "R",
   "pygments_lexer": "r",
   "version": "4.0.4"
  }
 },
 "nbformat": 4,
 "nbformat_minor": 5
}
