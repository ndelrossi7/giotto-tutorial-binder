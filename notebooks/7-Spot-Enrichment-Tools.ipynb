{
 "cells": [
  {
   "cell_type": "markdown",
   "id": "alpine-machine",
   "metadata": {},
   "source": [
    "# Spot enrichment tools\n"
   ]
  },
  {
   "cell_type": "markdown",
   "id": "intermediate-disposition",
   "metadata": {},
   "source": [
    "We need to go through all of the clustering steps before we can run any of these commands. We'll import a script that does all of this for us. If you'd like more information you can find it [here]."
   ]
  },
  {
   "cell_type": "code",
   "execution_count": null,
   "id": "metropolitan-washington",
   "metadata": {},
   "outputs": [],
   "source": [
    "source(\"scripts//visium_obj.R\")"
   ]
  },
  {
   "cell_type": "markdown",
   "id": "vietnamese-object",
   "metadata": {},
   "source": [
    "### 1. Parametric analysis of gene set enrichment (PAGE)\n",
    "\n",
    "---\n",
    "We'll start by declaring our markers:"
   ]
  },
  {
   "cell_type": "code",
   "execution_count": null,
   "id": "statewide-aluminum",
   "metadata": {},
   "outputs": [],
   "source": [
    "astro_epen_markers = c(\"Krt15\" , \"Apoc1\" , \"Igsf1\" , \"Gjb6\" , \"Slc26a3\" ,\n",
    "                       \"1500015O10Rik\" , \"S1pr1\" , \"Riiad1\" , \"Cldn10\" , \"Itih3\" ,\n",
    "                       \"Ccdc153\" , \"Cbs\" , \"C4b\" , \"Gm11627\" , \"Folr1\" ,\n",
    "                       \"Calml4\" , \"Aqp4\" , \"Ppp1r3g\" , \"1700012B09Rik\" , \"Hes5\")\n",
    "\n",
    "gran_markers = c(\"Nr3c2\", \"Gabra5\", \"Tubgcp2\", \"Ahcyl2\",\n",
    "                 \"Islr2\", \"Rasl10a\", \"Tmem114\", \"Bhlhe22\", \n",
    "                 \"Ntf3\", \"C1ql2\")\n",
    "\n",
    "cortex_hippo_markers = c(\"6330403A02Rik\" , \"Tekt5\" , \"Wipf3\" , \"1110032F04Rik\" , \"Lmo3\" ,\n",
    "                         \"Nrep\" , \"Slc30a3\" , \"Plcxd2\" , \"D630023F18Rik\" , \"Nptx1\" ,\n",
    "                         \"C1ql3\" , \"Ddit4l\" , \"Fezf2\" , \"Col24a1\" , \"Kcnf1\" ,\n",
    "                         \"Tnnc1\" , \"Gm12371\" , \"3110035E14Rik\" , \"Nr4a2\" , \"Nr4a3\")\n",
    "\n",
    "oligo_markers = c(\"Efhd1\" , \"H2-Ab1\" , \"Enpp6\" , \"Ninj2\" , \"Bmp4\" ,\n",
    "                  \"Tnr\" , \"Hapln2\" , \"Neu4\" , \"Wfdc18\" , \"Ccp110\" ,\n",
    "                  \"Gm26834\" , \"Il23a\" , \"Arap2\" , \"Nkx2-9\" , \"Mal\" ,\n",
    "                  \"Tmem2\" , \"Birc2\" , \"Cdkn1c\" , \"Pak4\" , \"Tmem88b\")"
   ]
  },
  {
   "cell_type": "markdown",
   "id": "engaged-deviation",
   "metadata": {},
   "source": [
    "Now we can make a [signature matrix](https://rubd.github.io/Giotto_site/reference/makeSignMatrixPAGE.html) for PAGE:"
   ]
  },
  {
   "cell_type": "code",
   "execution_count": null,
   "id": "hired-highway",
   "metadata": {},
   "outputs": [],
   "source": [
    "signature_matrix = makeSignMatrixPAGE(sign_names = c('Astro_ependymal',\n",
    "                                                     'Granule',\n",
    "                                                     'Cortex_hippocampus',\n",
    "                                                     'Oligo_dendrocytes'),\n",
    "                                      sign_list = list(astro_epen_markers,\n",
    "                                                       gran_markers,\n",
    "                                                       cortex_hippo_markers,\n",
    "                                                       oligo_markers))"
   ]
  },
  {
   "cell_type": "markdown",
   "id": "norwegian-victorian",
   "metadata": {},
   "source": [
    "And finally, we can run our [PAGE](https://rubd.github.io/Giotto_site/reference/runPAGEEnrich.html)"
   ]
  },
  {
   "cell_type": "code",
   "execution_count": null,
   "id": "opponent-physiology",
   "metadata": {},
   "outputs": [],
   "source": [
    "# runSpatialEnrich() can also be used as a wrapper for all currently provided enrichment options\n",
    "my_vis_object = runPAGEEnrich(gobject = my_vis_object,\n",
    "                                 sign_matrix = signature_matrix,\n",
    "                                 min_overlap_genes = 2)"
   ]
  },
  {
   "cell_type": "markdown",
   "id": "democratic-eating",
   "metadata": {},
   "source": [
    "Now let's visualize:"
   ]
  },
  {
   "cell_type": "code",
   "execution_count": null,
   "id": "adapted-diving",
   "metadata": {},
   "outputs": [],
   "source": [
    "cell_types_subset = colnames(signature_matrix)\n",
    "spatCellPlot(gobject = my_vis_object, \n",
    "             spat_enr_names = 'PAGE',\n",
    "             cell_annotation_values = cell_types_subset,\n",
    "             cow_n_col = 2,coord_fix_ratio = NULL, point_size = 2.75)[0]"
   ]
  },
  {
   "cell_type": "markdown",
   "id": "threaded-monday",
   "metadata": {},
   "source": [
    "### 2. RANK enrichment\n"
   ]
  },
  {
   "cell_type": "code",
   "execution_count": 19,
   "id": "enclosed-italian",
   "metadata": {},
   "outputs": [],
   "source": [
    "# to add later"
   ]
  },
  {
   "cell_type": "markdown",
   "id": "manufactured-valley",
   "metadata": {},
   "source": [
    "### 3. Hypergeometric enrichment\n",
    "---\n",
    "First we'll run our [hypergeometric enrichment](https://rubd.github.io/Giotto_site/reference/runHyperGeometricEnrich.html):"
   ]
  },
  {
   "cell_type": "code",
   "execution_count": null,
   "id": "turned-postcard",
   "metadata": {},
   "outputs": [],
   "source": [
    "my_vis_object = runHyperGeometricEnrich(gobject = my_vis_object,\n",
    "                                        sign_matrix = signature_matrix)"
   ]
  },
  {
   "cell_type": "markdown",
   "id": "massive-border",
   "metadata": {},
   "source": [
    "Now we can visualize out results:"
   ]
  },
  {
   "cell_type": "code",
   "execution_count": null,
   "id": "expanded-wyoming",
   "metadata": {},
   "outputs": [],
   "source": [
    "cell_types_subset = colnames(signature_matrix)\n",
    "\n",
    "spatCellPlot(gobject = my_vis_object, \n",
    "             spat_enr_names = 'hypergeometric',\n",
    "             cell_annotation_values = cell_types_subset,\n",
    "             cow_n_col = 2,coord_fix_ratio = NULL, point_size = 2.75)[0]\n",
    "             "
   ]
  }
 ],
 "metadata": {
  "kernelspec": {
   "display_name": "R",
   "language": "R",
   "name": "ir"
  },
  "language_info": {
   "codemirror_mode": "r",
   "file_extension": ".r",
   "mimetype": "text/x-r-source",
   "name": "R",
   "pygments_lexer": "r",
   "version": "4.0.4"
  }
 },
 "nbformat": 4,
 "nbformat_minor": 5
}
