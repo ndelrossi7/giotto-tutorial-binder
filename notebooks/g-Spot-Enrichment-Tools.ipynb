{
 "cells": [
  {
   "cell_type": "markdown",
   "id": "alpine-machine",
   "metadata": {},
   "source": [
    "# Spot enrichment tools\n"
   ]
  },
  {
   "cell_type": "markdown",
   "id": "intermediate-disposition",
   "metadata": {},
   "source": [
    "We need to go through all of the clustering steps before we can run any of these commands. We'll import a script that does all of this for us. If you'd like more information you can find it [here]."
   ]
  },
  {
   "cell_type": "code",
   "execution_count": null,
   "id": "metropolitan-washington",
   "metadata": {},
   "outputs": [],
   "source": [
    "source(\"scripts//visium_obj.R\")"
   ]
  },
  {
   "cell_type": "markdown",
   "id": "through-consistency",
   "metadata": {},
   "source": [
    "Now we'll import our signature matrix information so that we can make matrices for the following methods:"
   ]
  },
  {
   "cell_type": "code",
   "execution_count": null,
   "id": "raised-manchester",
   "metadata": {},
   "outputs": [],
   "source": [
    "sign_matrix_path = system.file(\"extdata\", \"sig_matrix.txt\", package = 'Giotto')\n",
    "brain_sc_markers = data.table::fread(sign_matrix_path) # file don't exist in data folder\n",
    "sig_matrix = as.matrix(brain_sc_markers[,-1]); rownames(sig_matrix) = brain_sc_markers$Event\n",
    "final_sig = sig_matrix[, 1:4]"
   ]
  },
  {
   "cell_type": "markdown",
   "id": "generic-sucking",
   "metadata": {},
   "source": [
    "Below we will create variables that hold all the cell types and genes of interest:"
   ]
  },
  {
   "cell_type": "code",
   "execution_count": null,
   "id": "impossible-vulnerability",
   "metadata": {},
   "outputs": [],
   "source": [
    "sigmatrix <- as.data.frame(final_sig)\n",
    "cell_types <- colnames(final_sig)\n",
    "sign_genes <- list()\n",
    "for (i in 1:length(colnames(final_sig))) {\n",
    "  sign_genes[[length(sign_genes)+1]] <- row.names(sigmatrix)[which(sigmatrix[i]==1)]\n",
    "}"
   ]
  },
  {
   "cell_type": "markdown",
   "id": "vietnamese-object",
   "metadata": {},
   "source": [
    "### 1. Parametric analysis of gene set enrichment (PAGE)\n"
   ]
  },
  {
   "cell_type": "markdown",
   "id": "engaged-deviation",
   "metadata": {},
   "source": [
    "Now we can make a [signature matrix](https://rubd.github.io/Giotto_site/reference/makeSignMatrixPAGE.html) for PAGE:"
   ]
  },
  {
   "cell_type": "code",
   "execution_count": null,
   "id": "hired-highway",
   "metadata": {},
   "outputs": [],
   "source": [
    "signature_matrix = makeSignMatrixPAGE(sign_names = cell_types,\n",
    "                                      sign_list = sign_genes)"
   ]
  },
  {
   "cell_type": "markdown",
   "id": "norwegian-victorian",
   "metadata": {},
   "source": [
    "And finally, we can run our [PAGE](https://rubd.github.io/Giotto_site/reference/runPAGEEnrich.html)"
   ]
  },
  {
   "cell_type": "code",
   "execution_count": null,
   "id": "opponent-physiology",
   "metadata": {},
   "outputs": [],
   "source": [
    "# runSpatialEnrich() can also be used as a wrapper for all currently provided enrichment options\n",
    "my_visium_object = runPAGEEnrich(gobject = my_visium_object,\n",
    "                                 sign_matrix = signature_matrix,\n",
    "                                 min_overlap_genes = 2)"
   ]
  },
  {
   "cell_type": "markdown",
   "id": "democratic-eating",
   "metadata": {},
   "source": [
    "Now let's visualize:"
   ]
  },
  {
   "cell_type": "code",
   "execution_count": null,
   "id": "adapted-diving",
   "metadata": {},
   "outputs": [],
   "source": [
    "cell_types_subset = colnames(signature_matrix)\n",
    "spatCellPlot(gobject = my_visium_object, \n",
    "             spat_enr_names = 'PAGE',\n",
    "             cell_annotation_values = cell_types_subset,\n",
    "             cow_n_col = 2,coord_fix_ratio = NULL, point_size = 2.75)[0]"
   ]
  },
  {
   "cell_type": "markdown",
   "id": "threaded-monday",
   "metadata": {},
   "source": [
    "### 2. RANK enrichment\n"
   ]
  },
  {
   "cell_type": "code",
   "execution_count": null,
   "id": "enclosed-italian",
   "metadata": {},
   "outputs": [],
   "source": [
    "# to add later"
   ]
  },
  {
   "cell_type": "markdown",
   "id": "manufactured-valley",
   "metadata": {},
   "source": [
    "### 3. Hypergeometric enrichment\n",
    "---\n",
    "First we'll run our [hypergeometric enrichment](https://rubd.github.io/Giotto_site/reference/runHyperGeometricEnrich.html):"
   ]
  },
  {
   "cell_type": "code",
   "execution_count": null,
   "id": "turned-postcard",
   "metadata": {},
   "outputs": [],
   "source": [
    "my_visium_object = runHyperGeometricEnrich(gobject = my_visium_objectmy_vis_object,\n",
    "                                        sign_matrix = signature_matrix)"
   ]
  },
  {
   "cell_type": "markdown",
   "id": "massive-border",
   "metadata": {},
   "source": [
    "Now we can visualize out results:"
   ]
  },
  {
   "cell_type": "code",
   "execution_count": null,
   "id": "expanded-wyoming",
   "metadata": {},
   "outputs": [],
   "source": [
    "cell_types_subset = colnames(signature_matrix)\n",
    "\n",
    "spatCellPlot(gobject = my_visium_object, \n",
    "             spat_enr_names = 'hypergeometric',\n",
    "             cell_annotation_values = cell_types_subset,\n",
    "             cow_n_col = 2,coord_fix_ratio = NULL, point_size = 2.75)[0]\n",
    "             "
   ]
  },
  {
   "cell_type": "markdown",
   "id": "referenced-bridge",
   "metadata": {},
   "source": [
    "### 4. DWLS Deconvolution"
   ]
  },
  {
   "cell_type": "code",
   "execution_count": null,
   "id": "caroline-minutes",
   "metadata": {},
   "outputs": [],
   "source": [
    "dwls_matrix = makeSignMatrixDWLS(gobject = my_visium_object,\n",
    "                                 sign_gene = unlist(sign_genes),\n",
    "                                 cell_type = cell_types)"
   ]
  },
  {
   "cell_type": "code",
   "execution_count": null,
   "id": "australian-glossary",
   "metadata": {},
   "outputs": [],
   "source": [
    "my_visium_object = runDWLSDeconv(gobject = my_visium_object,\n",
    "                                 sign_matrix = dwls_matrix)"
   ]
  },
  {
   "cell_type": "code",
   "execution_count": null,
   "id": "outside-mounting",
   "metadata": {},
   "outputs": [],
   "source": [
    "plot_data <- as.data.frame(my_visium_object@spatial_enrichment$DWLS)[-1]\n",
    "plot_col <- colnames(plot_data)\n",
    "plot_data$x <- as.numeric(as.character(my_visium_object@spatial_locs$sdimx))\n",
    "plot_data$y <- as.numeric(as.character(my_visium_object@spatial_locs$sdimy))\n",
    "min_x <- min(plot_data$x)\n",
    "plot_data$radius <- 50\n",
    "df <- data.frame()\n",
    "p <- ggplot(df) + geom_point() + xlim(min(plot_data$x)-1, max(plot_data$x)+1) + ylim(min(plot_data$y)-1, max(plot_data$y)+1)\n",
    "p + geom_scatterpie(aes(x=x, y=y, r=radius), data=plot_data, cols=plot_col, color=NA, alpha=.8) +\n",
    "  geom_scatterpie_legend(plot_data$radius, x=1, y=1) + theme_classic()"
   ]
  }
 ],
 "metadata": {
  "kernelspec": {
   "display_name": "R",
   "language": "R",
   "name": "ir"
  },
  "language_info": {
   "codemirror_mode": "r",
   "file_extension": ".r",
   "mimetype": "text/x-r-source",
   "name": "R",
   "pygments_lexer": "r",
   "version": "4.0.4"
  }
 },
 "nbformat": 4,
 "nbformat_minor": 5
}
