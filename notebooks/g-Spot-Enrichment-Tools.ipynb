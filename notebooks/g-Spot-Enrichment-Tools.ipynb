{
 "cells": [
  {
   "cell_type": "markdown",
   "id": "alpine-machine",
   "metadata": {},
   "source": [
    "# Spot enrichment tools\n"
   ]
  },
  {
   "cell_type": "markdown",
   "id": "intermediate-disposition",
   "metadata": {},
   "source": [
    "We need to go through all of the clustering steps before we can run any of these commands. We'll import a script that does all of this for us. If you'd like more information you can find it [here]."
   ]
  },
  {
   "cell_type": "code",
   "execution_count": null,
   "id": "metropolitan-washington",
   "metadata": {},
   "outputs": [],
   "source": [
    "source(\"scripts//visium_obj.R\")"
   ]
  },
  {
   "cell_type": "markdown",
   "id": "alternative-radical",
   "metadata": {},
   "source": [
    "Now we'll import our signature matrix information so that we can make matrices for the following methods:"
   ]
  },
  {
   "cell_type": "code",
   "execution_count": null,
   "id": "successful-happiness",
   "metadata": {},
   "outputs": [],
   "source": [
    "sign_matrix_path = system.file(\"extdata\", \"sig_matrix.txt\", package = 'Giotto')\n",
    "brain_sc_markers = data.table::fread(sign_matrix_path)\n",
    "sig_matrix = as.matrix(brain_sc_markers[,-1]); rownames(sig_matrix) = brain_sc_markers$Event\n",
    "final_sig = sig_matrix[, 1:4]"
   ]
  },
  {
   "cell_type": "markdown",
   "id": "electronic-cattle",
   "metadata": {},
   "source": [
    "Below we will create variables that hold all the cell types and genes of interest:"
   ]
  },
  {
   "cell_type": "code",
   "execution_count": null,
   "id": "present-updating",
   "metadata": {},
   "outputs": [],
   "source": [
    "sigmatrix <- as.data.frame(final_sig)\n",
    "cell_types <- colnames(final_sig)\n",
    "sign_genes <- list()\n",
    "for (i in 1:length(colnames(final_sig))) {\n",
    "  sign_genes[[length(sign_genes)+1]] <- row.names(sigmatrix)[which(sigmatrix[i]==1)]\n",
    "}"
   ]
  },
  {
   "cell_type": "markdown",
   "id": "vietnamese-object",
   "metadata": {},
   "source": [
    "### 1. Parametric analysis of gene set enrichment (PAGE)\n"
   ]
  },
  {
   "cell_type": "markdown",
   "id": "engaged-deviation",
   "metadata": {},
   "source": [
    "Now we can make a [signature matrix](https://rubd.github.io/Giotto_site/reference/makeSignMatrixPAGE.html) for PAGE:"
   ]
  },
  {
   "cell_type": "code",
   "execution_count": null,
   "id": "statewide-aluminum",
   "metadata": {},
   "outputs": [],
   "source": [
    "astro_epen_markers = c(\"Krt15\" , \"Apoc1\" , \"Igsf1\" , \"Gjb6\" , \"Slc26a3\" ,\n",
    "                       \"1500015O10Rik\" , \"S1pr1\" , \"Riiad1\" , \"Cldn10\" , \"Itih3\" ,\n",
    "                       \"Ccdc153\" , \"Cbs\" , \"C4b\" , \"Gm11627\" , \"Folr1\" ,\n",
    "                       \"Calml4\" , \"Aqp4\" , \"Ppp1r3g\" , \"1700012B09Rik\" , \"Hes5\")\n",
    "\n",
    "gran_markers = c(\"Nr3c2\", \"Gabra5\", \"Tubgcp2\", \"Ahcyl2\",\n",
    "                 \"Islr2\", \"Rasl10a\", \"Tmem114\", \"Bhlhe22\", \n",
    "                 \"Ntf3\", \"C1ql2\")\n",
    "\n",
    "cortex_hippo_markers = c(\"6330403A02Rik\" , \"Tekt5\" , \"Wipf3\" , \"1110032F04Rik\" , \"Lmo3\" ,\n",
    "                         \"Nrep\" , \"Slc30a3\" , \"Plcxd2\" , \"D630023F18Rik\" , \"Nptx1\" ,\n",
    "                         \"C1ql3\" , \"Ddit4l\" , \"Fezf2\" , \"Col24a1\" , \"Kcnf1\" ,\n",
    "                         \"Tnnc1\" , \"Gm12371\" , \"3110035E14Rik\" , \"Nr4a2\" , \"Nr4a3\")\n",
    "\n",
    "oligo_markers = c(\"Efhd1\" , \"H2-Ab1\" , \"Enpp6\" , \"Ninj2\" , \"Bmp4\" ,\n",
    "                  \"Tnr\" , \"Hapln2\" , \"Neu4\" , \"Wfdc18\" , \"Ccp110\" ,\n",
    "                  \"Gm26834\" , \"Il23a\" , \"Arap2\" , \"Nkx2-9\" , \"Mal\" ,\n",
    "                  \"Tmem2\" , \"Birc2\" , \"Cdkn1c\" , \"Pak4\" , \"Tmem88b\")"
   ]
  },
  {
   "cell_type": "code",
   "execution_count": null,
   "id": "hired-highway",
   "metadata": {},
   "outputs": [],
   "source": [
    "signature_matrix = makeSignMatrixPAGE(sign_names = cell_types,\n",
    "                                      sign_list = sign_genes)"
   ]
  },
  {
   "cell_type": "markdown",
   "id": "norwegian-victorian",
   "metadata": {},
   "source": [
    "And finally, we can run our [PAGE](https://rubd.github.io/Giotto_site/reference/runPAGEEnrich.html)"
   ]
  },
  {
   "cell_type": "code",
   "execution_count": null,
   "id": "opponent-physiology",
   "metadata": {},
   "outputs": [],
   "source": [
    "# runSpatialEnrich() can also be used as a wrapper for all currently provided enrichment options\n",
    "my_visium_object = runPAGEEnrich(gobject = my_visium_object,\n",
    "                                 sign_matrix = signature_matrix,\n",
    "                                 min_overlap_genes = 2)"
   ]
  },
  {
   "cell_type": "markdown",
   "id": "democratic-eating",
   "metadata": {},
   "source": [
    "Now let's visualize:"
   ]
  },
  {
   "cell_type": "code",
   "execution_count": null,
   "id": "adapted-diving",
   "metadata": {},
   "outputs": [],
   "source": [
    "cell_types_subset = colnames(signature_matrix)\n",
    "spatCellPlot(gobject = my_visium_object, \n",
    "             spat_enr_names = 'PAGE',\n",
    "             cell_annotation_values = cell_types_subset,\n",
    "             cow_n_col = 2,coord_fix_ratio = NULL, point_size = 2.75)[0]"
   ]
  },
  {
   "cell_type": "markdown",
   "id": "threaded-monday",
   "metadata": {},
   "source": [
    "### 2. RANK enrichment\n"
   ]
  },
  {
   "cell_type": "markdown",
   "id": "green-kansas",
   "metadata": {},
   "source": [
    "First, we'll read in our single cell and annotations data (this can be found in the ```data``` folder in this directory:"
   ]
  },
  {
   "cell_type": "code",
   "execution_count": null,
   "id": "enclosed-italian",
   "metadata": {},
   "outputs": [],
   "source": [
    "# single cell matrix\n",
    "single_cell_DT = fread(\"data/raw_exp_small.txt\")\n",
    "single_cell_matrix = Giotto:::dt_to_matrix(single_cell_DT)\n",
    "\n",
    "# single cell annotation vector\n",
    "cell_annotations = read.table(file = \"data/major_cluster_small.txt\")\n",
    "cell_annotations = as.vector(cell_annotations$V1)"
   ]
  },
  {
   "cell_type": "markdown",
   "id": "classified-accent",
   "metadata": {},
   "source": [
    "Now we can create our RANK matrix:"
   ]
  },
  {
   "cell_type": "code",
   "execution_count": null,
   "id": "known-environment",
   "metadata": {},
   "outputs": [],
   "source": [
    "rank_matrix = makeSignMatrixRank(sc_matrix = single_cell_matrix, sc_cluster_ids = cell_annotations)"
   ]
  },
  {
   "cell_type": "markdown",
   "id": "infinite-custom",
   "metadata": {},
   "source": [
    "Run RANK enrichment:"
   ]
  },
  {
   "cell_type": "code",
   "execution_count": null,
   "id": "concerned-robin",
   "metadata": {},
   "outputs": [],
   "source": [
    "my_visium_object = runRankEnrich(gobject = my_visium_object, sign_matrix = rank_matrix)"
   ]
  },
  {
   "cell_type": "markdown",
   "id": "needed-split",
   "metadata": {},
   "source": [
    "And visualize:"
   ]
  },
  {
   "cell_type": "code",
   "execution_count": null,
   "id": "linear-nitrogen",
   "metadata": {},
   "outputs": [],
   "source": [
    "cell_types_subset = c(\"Astro_ependymal\", \"Oligo_dendrocyte\" , \"Cortex_hippocampus\" , \"Granule_neurons\" )\n",
    "spatCellPlot(gobject = my_visium_object, \n",
    "             spat_enr_names = 'rank',\n",
    "             cell_annotation_values = cell_types_subset,\n",
    "             cow_n_col = 2,coord_fix_ratio = NULL, point_size = 1.75)[0]"
   ]
  },
  {
   "cell_type": "markdown",
   "id": "manufactured-valley",
   "metadata": {},
   "source": [
    "### 3. Hypergeometric enrichment\n",
    "---\n",
    "First we'll run our [hypergeometric enrichment](https://rubd.github.io/Giotto_site/reference/runHyperGeometricEnrich.html):"
   ]
  },
  {
   "cell_type": "code",
   "execution_count": null,
   "id": "turned-postcard",
   "metadata": {},
   "outputs": [],
   "source": [
    "my_visium_object = runHyperGeometricEnrich(gobject = my_visium_object,\n",
    "                                        sign_matrix = signature_matrix)"
   ]
  },
  {
   "cell_type": "markdown",
   "id": "massive-border",
   "metadata": {},
   "source": [
    "Now we can visualize out results:"
   ]
  },
  {
   "cell_type": "code",
   "execution_count": null,
   "id": "expanded-wyoming",
   "metadata": {},
   "outputs": [],
   "source": [
    "cell_types_subset = colnames(signature_matrix)\n",
    "\n",
    "spatCellPlot(gobject = my_visium_object, \n",
    "             spat_enr_names = 'hypergeometric',\n",
    "             cell_annotation_values = cell_types_subset,\n",
    "             cow_n_col = 2,coord_fix_ratio = NULL, point_size = 2.75)[0]\n",
    "             "
   ]
  },
  {
   "cell_type": "markdown",
   "id": "loved-kansas",
   "metadata": {},
   "source": [
    "### 4. DWLS Deconvolution"
   ]
  },
  {
   "cell_type": "code",
   "execution_count": null,
   "id": "relative-williams",
   "metadata": {},
   "outputs": [],
   "source": [
    "dwls_matrix = makeSignMatrixDWLS(gobject = my_visium_object,\n",
    "                                 sign_gene = unlist(sign_genes),\n",
    "                                 cell_type = cell_types)"
   ]
  },
  {
   "cell_type": "code",
   "execution_count": null,
   "id": "basic-variety",
   "metadata": {},
   "outputs": [],
   "source": [
    "my_visium_object = runDWLSDeconv(gobject = my_visium_object,\n",
    "                                 sign_matrix = dwls_matrix)"
   ]
  },
  {
   "cell_type": "code",
   "execution_count": null,
   "id": "greater-operator",
   "metadata": {},
   "outputs": [],
   "source": [
    "plot_data <- as.data.frame(my_visium_object@spatial_enrichment$DWLS)[-1]\n",
    "plot_col <- colnames(plot_data)\n",
    "plot_data$x <- as.numeric(as.character(my_visium_object@spatial_locs$sdimx))\n",
    "plot_data$y <- as.numeric(as.character(my_visium_object@spatial_locs$sdimy))\n",
    "min_x <- min(plot_data$x)\n",
    "plot_data$radius <- 50\n",
    "df <- data.frame()\n",
    "p <- ggplot(df) + geom_point() + xlim(min(plot_data$x)-1, max(plot_data$x)+1) + ylim(min(plot_data$y)-1, max(plot_data$y)+1)\n",
    "p + geom_scatterpie(aes(x=x, y=y, r=radius), data=plot_data, cols=plot_col, color=NA, alpha=.8) +\n",
    "  geom_scatterpie_legend(plot_data$radius, x=1, y=1) + theme_classic()"
   ]
  }
 ],
 "metadata": {
  "kernelspec": {
   "display_name": "R",
   "language": "R",
   "name": "ir"
  },
  "language_info": {
   "codemirror_mode": "r",
   "file_extension": ".r",
   "mimetype": "text/x-r-source",
   "name": "R",
   "pygments_lexer": "r",
   "version": "4.0.4"
  }
 },
 "nbformat": 4,
 "nbformat_minor": 5
}
