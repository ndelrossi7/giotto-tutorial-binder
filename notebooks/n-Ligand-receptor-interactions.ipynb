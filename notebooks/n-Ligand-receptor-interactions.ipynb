{
 "cells": [
  {
   "cell_type": "markdown",
   "id": "sixth-friend",
   "metadata": {},
   "source": [
    "# Ligand receptor interactions\n",
    "\n",
    "---\n",
    "\n",
    "\n",
    "In this notebook, we will identify enriched or depleted ligand-receptor interactions in hetero and homo-typic cell interactions. First we need to import the following script and run binSpect:"
   ]
  },
  {
   "cell_type": "code",
   "execution_count": null,
   "id": "choice-people",
   "metadata": {
    "scrolled": true
   },
   "outputs": [],
   "source": [
    "source(\"scripts//spatial_pre_process.R\")\n",
    "\n",
    "# identify genes with a spatial coherent expression profile\n",
    "km_spatialgenes = binSpect(my_giotto_object, bin_method = 'kmeans')"
   ]
  },
  {
   "cell_type": "markdown",
   "id": "worse-finland",
   "metadata": {},
   "source": [
    "### 1. Run ligand receptor signaling\n",
    "\n"
   ]
  },
  {
   "cell_type": "code",
   "execution_count": null,
   "id": "overhead-interpretation",
   "metadata": {},
   "outputs": [],
   "source": [
    "LR_data = data.table::fread(system.file(\"extdata\", \"mouse_ligand_receptors.txt\", package = 'Giotto'))\n",
    "\n",
    "LR_data[, ligand_det := ifelse(mouseLigand %in% my_giotto_object@gene_ID, T, F)]\n",
    "LR_data[, receptor_det := ifelse(mouseReceptor %in% my_giotto_object@gene_ID, T, F)]\n",
    "LR_data_det = LR_data[ligand_det == T & receptor_det == T]\n",
    "select_ligands = LR_data_det$mouseLigand\n",
    "select_receptors = LR_data_det$mouseReceptor\n",
    "\n",
    "## get statistical significance of gene pair expression changes based on expression ##\n",
    "expr_only_scores = exprCellCellcom(gobject = my_giotto_object,\n",
    "                                   cluster_column = 'cell_types',\n",
    "                                   random_iter = 500,\n",
    "                                   gene_set_1 = select_ligands,\n",
    "                                   gene_set_2 = select_receptors)"
   ]
  },
  {
   "cell_type": "code",
   "execution_count": null,
   "id": "funny-lemon",
   "metadata": {},
   "outputs": [],
   "source": [
    "## get statistical significance of gene pair expression changes upon cell-cell interaction\n",
    "spatial_all_scores = spatCellCellcom(my_giotto_object,\n",
    "                                     spatial_network_name = 'Delaunay_network',\n",
    "                                     cluster_column = 'cell_types',\n",
    "                                     random_iter = 500,\n",
    "                                     gene_set_1 = select_ligands,\n",
    "                                     gene_set_2 = select_receptors,\n",
    "                                     adjust_method = 'fdr',\n",
    "                                     do_parallel = T,\n",
    "                                     cores = 4,\n",
    "                                     verbose = 'none')"
   ]
  },
  {
   "cell_type": "markdown",
   "id": "lucky-collector",
   "metadata": {},
   "source": [
    "### 2. Plot ligand receptor signaling results\n",
    "\n"
   ]
  },
  {
   "cell_type": "code",
   "execution_count": null,
   "id": "negative-scholar",
   "metadata": {},
   "outputs": [],
   "source": [
    "## we first need to select top LR ##\n",
    "selected_spat = spatial_all_scores[p.adj <= 0.5 & abs(log2fc) > 0.1 & lig_nr >= 2 & rec_nr >= 2]\n",
    "data.table::setorder(selected_spat, -PI)\n",
    "\n",
    "top_LR_ints = unique(selected_spat[order(-abs(PI))]$LR_comb)[1:33]\n",
    "top_LR_cell_ints = unique(selected_spat[order(-abs(PI))]$LR_cell_comb)[1:33]\n",
    "\n",
    "plotCCcomHeatmap(gobject = my_giotto_object,\n",
    "                 comScores = spatial_all_scores,\n",
    "                 selected_LR = top_LR_ints,\n",
    "                 selected_cell_LR = top_LR_cell_ints,\n",
    "                 show = 'LR_expr')[0]"
   ]
  },
  {
   "cell_type": "code",
   "execution_count": null,
   "id": "herbal-brother",
   "metadata": {},
   "outputs": [],
   "source": [
    "plotCCcomDotplot(gobject = my_giotto_object,\n",
    "                 comScores = spatial_all_scores,\n",
    "                 selected_LR = top_LR_ints,\n",
    "                 selected_cell_LR = top_LR_cell_ints,\n",
    "                 cluster_on = 'PI')[0]"
   ]
  },
  {
   "cell_type": "code",
   "execution_count": null,
   "id": "sharing-ballot",
   "metadata": {},
   "outputs": [],
   "source": [
    "## * spatial vs rank ####\n",
    "comb_comm = combCCcom(spatialCC = spatial_all_scores,\n",
    "                      exprCC = expr_only_scores)\n",
    "\n",
    "# top differential activity levels for ligand receptor pairs\n",
    "plotRankSpatvsExpr(gobject = my_giotto_object,\n",
    "                   comb_comm,\n",
    "                   expr_rnk_column = 'exprPI_rnk',\n",
    "                   spat_rnk_column = 'spatPI_rnk',\n",
    "                   midpoint = 10)[0]"
   ]
  },
  {
   "cell_type": "code",
   "execution_count": null,
   "id": "smaller-northwest",
   "metadata": {},
   "outputs": [],
   "source": [
    "## * recovery ####\n",
    "## predict maximum differential activity\n",
    "plotRecovery(gobject = my_giotto_object,\n",
    "             comb_comm,\n",
    "             expr_rnk_column = 'exprPI_rnk',\n",
    "             spat_rnk_column = 'spatPI_rnk',\n",
    "             ground_truth = 'spatial')[0]"
   ]
  }
 ],
 "metadata": {
  "kernelspec": {
   "display_name": "R",
   "language": "R",
   "name": "ir"
  },
  "language_info": {
   "codemirror_mode": "r",
   "file_extension": ".r",
   "mimetype": "text/x-r-source",
   "name": "R",
   "pygments_lexer": "r",
   "version": "4.0.4"
  }
 },
 "nbformat": 4,
 "nbformat_minor": 5
}
