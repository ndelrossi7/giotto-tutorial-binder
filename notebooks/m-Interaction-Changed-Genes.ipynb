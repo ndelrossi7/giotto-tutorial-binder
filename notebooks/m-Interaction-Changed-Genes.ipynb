{
 "cells": [
  {
   "cell_type": "markdown",
   "id": "imposed-madison",
   "metadata": {},
   "source": [
    "# In this notebook we will find cell-cell interaction changed genes\n",
    "\n",
    "---\n",
    "First we need to import our spatial pre-processing notebook and run binSpect below:"
   ]
  },
  {
   "cell_type": "code",
   "execution_count": null,
   "id": "floating-absolute",
   "metadata": {},
   "outputs": [],
   "source": [
    "source(\"scripts//spatial_pre_process.R\")\n",
    "\n",
    "# identify genes with a spatial coherent expression profile\n",
    "km_spatialgenes = binSpect(my_giotto_object, bin_method = 'kmeans')"
   ]
  },
  {
   "cell_type": "markdown",
   "id": "crucial-baghdad",
   "metadata": {},
   "source": [
    "### 1. Interaction changed genes\n",
    "\n",
    "Below, we'll find our [interaction changed genes](https://rubd.github.io/Giotto_site/reference/findICG.html) (ICGs):"
   ]
  },
  {
   "cell_type": "code",
   "execution_count": null,
   "id": "boring-stylus",
   "metadata": {},
   "outputs": [],
   "source": [
    "## select top 25th highest expressing genes\n",
    "gene_metadata = fDataDT(my_giotto_object)\n",
    "plot(gene_metadata$nr_cells, gene_metadata$mean_expr)\n",
    "plot(gene_metadata$nr_cells, gene_metadata$mean_expr_det)\n",
    "\n",
    "quantile(gene_metadata$mean_expr_det)\n",
    "high_expressed_genes = gene_metadata[mean_expr_det > 4]$gene_ID\n",
    "\n",
    "## identify genes that are associated with proximity to other cell types\n",
    "ICGscoresHighGenes =  findICG(gobject = my_giotto_object,\n",
    "                              selected_genes = high_expressed_genes,\n",
    "                              spatial_network_name = 'Delaunay_network',\n",
    "                              cluster_column = 'cell_types',\n",
    "                              diff_test = 'permutation',\n",
    "                              adjust_method = 'fdr',\n",
    "                              nr_permutations = 500,\n",
    "                              do_parallel = T, cores = 2)"
   ]
  },
  {
   "cell_type": "code",
   "execution_count": null,
   "id": "least-order",
   "metadata": {},
   "outputs": [],
   "source": [
    "## visualize all genes\n",
    "plotCellProximityGenes(my_giotto_object, \n",
    "                       cpgObject = ICGscoresHighGenes, \n",
    "                       method = 'dotplot')"
   ]
  },
  {
   "cell_type": "markdown",
   "id": "centered-central",
   "metadata": {},
   "source": [
    "### 2. Filter ICGs:\n",
    "\n",
    "Below we'll [filter our ICGs](https://rubd.github.io/Giotto_site/reference/filterICG.html):"
   ]
  },
  {
   "cell_type": "code",
   "execution_count": null,
   "id": "restricted-comedy",
   "metadata": {},
   "outputs": [],
   "source": [
    "# filter genes\n",
    "ICGscoresFilt = filterICG(ICGscoresHighGenes, \n",
    "                          min_cells = 2, min_int_cells = 2, min_fdr = 0.1,\n",
    "                          min_spat_diff = 0.1, min_log2_fc = 0.1, min_zscore = 1)"
   ]
  },
  {
   "cell_type": "markdown",
   "id": "offensive-leather",
   "metadata": {},
   "source": [
    "### 3. Visualize\n",
    "Now we can visualize our selected ICGs:\n"
   ]
  },
  {
   "cell_type": "code",
   "execution_count": null,
   "id": "inappropriate-semiconductor",
   "metadata": {
    "scrolled": false
   },
   "outputs": [],
   "source": [
    "## visualize subset of interaction changed genes (ICGs)\n",
    "# random subset\n",
    "ICG_genes = c(\"Atp1b2\", \"Slc17a7\", \"Pcdh8\")\n",
    "ICG_genes_types = c(\"cell_type_2\", \"cell_type_3\", \"cell_type_4\")\n",
    "names(ICG_genes) = ICG_genes_types\n",
    "\n",
    "plotICG(gobject = my_giotto_object,\n",
    "        cpgObject = ICGscoresHighGenes,\n",
    "        source_type = \"cell_type_1\",\n",
    "        source_markers = c(\"Cldn5\", \"Lingo1\"),\n",
    "        ICG_genes = ICG_genes)"
   ]
  },
  {
   "cell_type": "code",
   "execution_count": null,
   "id": "fourth-calculator",
   "metadata": {},
   "outputs": [],
   "source": []
  }
 ],
 "metadata": {
  "kernelspec": {
   "display_name": "R",
   "language": "R",
   "name": "ir"
  },
  "language_info": {
   "codemirror_mode": "r",
   "file_extension": ".r",
   "mimetype": "text/x-r-source",
   "name": "R",
   "pygments_lexer": "r",
   "version": "4.0.4"
  }
 },
 "nbformat": 4,
 "nbformat_minor": 5
}
