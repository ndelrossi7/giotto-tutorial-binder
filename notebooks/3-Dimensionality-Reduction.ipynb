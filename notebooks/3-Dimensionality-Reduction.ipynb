{
 "cells": [
  {
   "cell_type": "markdown",
   "id": "accomplished-ballot",
   "metadata": {},
   "source": [
    "# Dimensionality reduction\n",
    "In this notebook we'll walk through dimensionality reduction and their respective visualizations.\n",
    "\n",
    "--------"
   ]
  },
  {
   "cell_type": "markdown",
   "id": "asian-terrain",
   "metadata": {},
   "source": [
    "We're going to directly import our pre-processed Giotto object that we've demonstrated in previous notebooks. The code for this import is in this [script](https://github.com/ndelrossi7/r-conda-binder/blob/main/scripts/my_giotto_object.R)."
   ]
  },
  {
   "cell_type": "code",
   "execution_count": null,
   "id": "planned-genesis",
   "metadata": {},
   "outputs": [],
   "source": [
    "# you may have to run this cell twice if you get an error first\n",
    "\n",
    "setwd(dirname(getwd()))\n",
    "source(\"r-conda-binder/scripts/my_giotto_object.R\")"
   ]
  },
  {
   "cell_type": "markdown",
   "id": "healthy-estonia",
   "metadata": {},
   "source": [
    "### 1. First, we'll calculate our highly variable genes (HVGs)\n",
    "Details on how you can calculate your HVGs can be found [here](https://rubd.github.io/Giotto_site/reference/calculateHVG.html)."
   ]
  },
  {
   "cell_type": "code",
   "execution_count": null,
   "id": "cultural-colleague",
   "metadata": {
    "scrolled": true
   },
   "outputs": [],
   "source": [
    "my_giotto_object <- calculateHVG(gobject = my_giotto_object)"
   ]
  },
  {
   "cell_type": "markdown",
   "id": "after-server",
   "metadata": {},
   "source": [
    "### 2. Now we can run a principal component analysis (PCA)\n",
    "Details on PCA can be found [here](https://rubd.github.io/Giotto_site/reference/runPCA.html)"
   ]
  },
  {
   "cell_type": "code",
   "execution_count": null,
   "id": "controversial-formation",
   "metadata": {},
   "outputs": [],
   "source": [
    "my_giotto_object <- runPCA(gobject = my_giotto_object)"
   ]
  },
  {
   "cell_type": "markdown",
   "id": "transsexual-newsletter",
   "metadata": {},
   "source": [
    "### 3. Scree plot\n",
    "One way we can visualize our PCA to identify significant principal components is by using a [scree plot](https://rubd.github.io/Giotto_site/reference/screePlot.html)."
   ]
  },
  {
   "cell_type": "code",
   "execution_count": null,
   "id": "instrumental-division",
   "metadata": {},
   "outputs": [],
   "source": [
    "screePlot(my_giotto_object, ncp = 20)"
   ]
  },
  {
   "cell_type": "markdown",
   "id": "narrow-emphasis",
   "metadata": {},
   "source": [
    "### 4. JackStraw plot\n",
    "Another way we can visualize our principal components is with a [JackStraw plot](https://rubd.github.io/Giotto_site/reference/jackstrawPlot.html)"
   ]
  },
  {
   "cell_type": "code",
   "execution_count": null,
   "id": "korean-tennessee",
   "metadata": {
    "scrolled": true
   },
   "outputs": [],
   "source": [
    "jackstrawPlot(my_giotto_object, ncp = 20)"
   ]
  },
  {
   "cell_type": "markdown",
   "id": "statistical-corpus",
   "metadata": {},
   "source": [
    "### 5. Uniform Manifold Approximpation and Projection (UMAP)\n",
    "\n",
    "We can also do some dimensionality reduction with [UMAP](https://rubd.github.io/Giotto_site/reference/runUMAP.html)"
   ]
  },
  {
   "cell_type": "code",
   "execution_count": null,
   "id": "bizarre-server",
   "metadata": {},
   "outputs": [],
   "source": [
    "my_giotto_object <- runUMAP(my_giotto_object, dimensions_to_use = 1:5)\n",
    "plotUMAP(gobject = my_giotto_object)"
   ]
  },
  {
   "cell_type": "markdown",
   "id": "earlier-connecticut",
   "metadata": {},
   "source": [
    "### 6. t-Distributed Stochastic Neighbor Embedding (t-SNE)\n",
    "As well as [t-SNE](https://rubd.github.io/Giotto_site/reference/runtSNE.html)"
   ]
  },
  {
   "cell_type": "code",
   "execution_count": null,
   "id": "guided-zealand",
   "metadata": {},
   "outputs": [],
   "source": [
    "my_giotto_object <- runtSNE(my_giotto_object, dimensions_to_use = 1:5)\n",
    "plotTSNE(gobject = my_giotto_object)"
   ]
  }
 ],
 "metadata": {
  "kernelspec": {
   "display_name": "R",
   "language": "R",
   "name": "ir"
  },
  "language_info": {
   "codemirror_mode": "r",
   "file_extension": ".r",
   "mimetype": "text/x-r-source",
   "name": "R",
   "pygments_lexer": "r",
   "version": "4.0.4"
  }
 },
 "nbformat": 4,
 "nbformat_minor": 5
}
