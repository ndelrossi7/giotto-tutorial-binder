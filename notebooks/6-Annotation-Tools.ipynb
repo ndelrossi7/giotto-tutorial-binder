{
 "cells": [
  {
   "cell_type": "markdown",
   "id": "talented-catch",
   "metadata": {},
   "source": [
    "# Annotation Tools\n",
    "\n",
    "It can be helpful to annotate our gene and cell data for visualization purposes. In the following notebook we'll walk through the annotation methods in Giotto\n",
    "\n",
    "----"
   ]
  },
  {
   "cell_type": "markdown",
   "id": "digital-transfer",
   "metadata": {},
   "source": [
    "First, we'll directly import our Leiden clustered data:"
   ]
  },
  {
   "cell_type": "code",
   "execution_count": null,
   "id": "afraid-nightmare",
   "metadata": {},
   "outputs": [],
   "source": [
    "source(\"scripts//clustered_obj.R\")"
   ]
  },
  {
   "cell_type": "markdown",
   "id": "natural-death",
   "metadata": {},
   "source": [
    "Let's take a look at our clustering results (we have 4 different clusters)"
   ]
  },
  {
   "cell_type": "code",
   "execution_count": null,
   "id": "detected-range",
   "metadata": {
    "scrolled": true
   },
   "outputs": [],
   "source": [
    "# show leiden clustering results\n",
    "cell_metadata = pDataDT(my_giotto_object)\n",
    "cell_metadata[['leiden_clus']]"
   ]
  },
  {
   "cell_type": "markdown",
   "id": "fantastic-reunion",
   "metadata": {},
   "source": [
    "Now we can create a vector that has the names we want to use for annotation"
   ]
  },
  {
   "cell_type": "code",
   "execution_count": null,
   "id": "missing-cheat",
   "metadata": {},
   "outputs": [],
   "source": [
    "# create vector with cell type names as names of the vector\n",
    "clusters_cell_types = c('cell_type_1', 'cell_type_2', 'cell_type_3', 'cell_type_4')\n",
    "names(clusters_cell_types) = 1:4 # leiden clustering results"
   ]
  },
  {
   "cell_type": "markdown",
   "id": "determined-store",
   "metadata": {},
   "source": [
    "### 1. Annotate \n"
   ]
  },
  {
   "cell_type": "code",
   "execution_count": null,
   "id": "greenhouse-simpson",
   "metadata": {},
   "outputs": [],
   "source": [
    "# convert cluster results into annotations and add to cell metadata\n",
    "my_giotto_object = annotateGiotto(gobject = my_giotto_object,\n",
    "                                         annotation_vector = clusters_cell_types,\n",
    "                                         cluster_column = 'leiden_clus', \n",
    "                                         name = 'cell_types')"
   ]
  },
  {
   "cell_type": "markdown",
   "id": "major-sacramento",
   "metadata": {},
   "source": [
    "We can inspect our data table to see that we now have a ```cell_types``` column"
   ]
  },
  {
   "cell_type": "code",
   "execution_count": null,
   "id": "criminal-skirt",
   "metadata": {
    "scrolled": true
   },
   "outputs": [],
   "source": [
    "head(pDataDT(my_giotto_object), 5)"
   ]
  },
  {
   "cell_type": "markdown",
   "id": "imposed-spyware",
   "metadata": {},
   "source": [
    "Now we can take a look at how our annotation plays out in visualization:"
   ]
  },
  {
   "cell_type": "code",
   "execution_count": null,
   "id": "strange-convertible",
   "metadata": {},
   "outputs": [],
   "source": [
    "# visualize annotation results\n",
    "# annotation name is cell_types as provided in the previous command\n",
    "spatDimPlot(gobject = my_giotto_single_cell,\n",
    "            cell_color = 'cell_types',\n",
    "            spat_point_size = 3, dim_point_size = 3)[0]"
   ]
  },
  {
   "cell_type": "markdown",
   "id": "corporate-official",
   "metadata": {},
   "source": [
    "### 2. Remove annotation\n",
    "\n",
    "We can also remove the annotation we created. Below is a preview of our annotated data:"
   ]
  },
  {
   "cell_type": "code",
   "execution_count": null,
   "id": "present-baker",
   "metadata": {},
   "outputs": [],
   "source": [
    "head(pDataDT(my_giotto_object), 5)"
   ]
  },
  {
   "cell_type": "markdown",
   "id": "measured-neighborhood",
   "metadata": {},
   "source": [
    "Now we'll remove the cell annotation"
   ]
  },
  {
   "cell_type": "code",
   "execution_count": null,
   "id": "productive-basis",
   "metadata": {},
   "outputs": [],
   "source": [
    "my_giotto_object = removeCellAnnotation(my_giotto_object,\n",
    "                                       columns = 'cell_types')"
   ]
  },
  {
   "cell_type": "markdown",
   "id": "domestic-emission",
   "metadata": {},
   "source": [
    "And we can see that the ```cell_types``` column is gone:"
   ]
  },
  {
   "cell_type": "code",
   "execution_count": null,
   "id": "contrary-martial",
   "metadata": {},
   "outputs": [],
   "source": [
    "head(pDataDT(my_giotto_object), 5)"
   ]
  },
  {
   "cell_type": "markdown",
   "id": "saved-momentum",
   "metadata": {},
   "source": [
    "The same goes for our gene data. Below is our annotated gene data:"
   ]
  },
  {
   "cell_type": "code",
   "execution_count": null,
   "id": "danish-valentine",
   "metadata": {
    "scrolled": true
   },
   "outputs": [],
   "source": [
    "head(fDataDT(my_giotto_object), 5)"
   ]
  },
  {
   "cell_type": "markdown",
   "id": "wrong-basketball",
   "metadata": {},
   "source": [
    "Now we'll remove the number of cells annotation:"
   ]
  },
  {
   "cell_type": "code",
   "execution_count": null,
   "id": "typical-frederick",
   "metadata": {},
   "outputs": [],
   "source": [
    "my_giotto_object = removeGeneAnnotation(my_giotto_object, \n",
    "                                       columns = 'nr_cells')"
   ]
  },
  {
   "cell_type": "markdown",
   "id": "wrong-hudson",
   "metadata": {},
   "source": [
    "We can see that our ```nr_cells``` column is gone: "
   ]
  },
  {
   "cell_type": "code",
   "execution_count": null,
   "id": "later-revision",
   "metadata": {
    "scrolled": true
   },
   "outputs": [],
   "source": [
    "head(fDataDT(my_giotto_object), 5)"
   ]
  }
 ],
 "metadata": {
  "kernelspec": {
   "display_name": "R",
   "language": "R",
   "name": "ir"
  },
  "language_info": {
   "codemirror_mode": "r",
   "file_extension": ".r",
   "mimetype": "text/x-r-source",
   "name": "R",
   "pygments_lexer": "r",
   "version": "4.0.4"
  }
 },
 "nbformat": 4,
 "nbformat_minor": 5
}
