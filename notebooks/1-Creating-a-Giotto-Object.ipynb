{
 "cells": [
  {
   "cell_type": "markdown",
   "id": "informative-conspiracy",
   "metadata": {},
   "source": [
    "# Installing a Giotto environment and creating a Giotto object\n",
    "\n",
    "In this notebook, we'll walk through how to install a Giotto environment and create a Giotto object. \n",
    "________\n",
    "\n"
   ]
  },
  {
   "cell_type": "markdown",
   "id": "advisory-background",
   "metadata": {},
   "source": [
    "### 1. Installing a [Giotto environment](https://rubd.github.io/Giotto_site/articles/tut0_giotto_environment.html)\n",
    "Giotto requires a number of python modules to run properly. There are a couple of [different ways](https://rubd.github.io/Giotto_site/articles/tut0_giotto_environment.html) we can do this, such as installing all of the necessary packages manually and then adding your local python path to the Giotto instructions. In this notebook, we'll walk through how to set up this environment with [r-miniconda](https://github.com/hafen/rminiconda)."
   ]
  },
  {
   "cell_type": "markdown",
   "id": "coordinate-trouble",
   "metadata": {},
   "source": [
    "**First, we'll install Giotto** using the [hello.R script](https://github.com/ndelrossi7/giotto-binder/blob/main/hello.R) that I've created. \n",
    "\n",
    "Please note that when using Binder, this may take a while as it's the first time all of the dependencies are being checked and installed. If you set Giotto up on your local computer, you will only need to do this once. Please refer to this [page](https://rubd.github.io/Giotto_site/index.html#installation) for instructions on installing Giotto locally and check out the [FAQs](https://rubd.github.io/Giotto_site/articles/faqs.html) if you're having any issues."
   ]
  },
  {
   "cell_type": "code",
   "execution_count": null,
   "id": "raising-printer",
   "metadata": {},
   "outputs": [],
   "source": [
    "remotes::install_github(\"RubD/Giotto@cless\")"
   ]
  },
  {
   "cell_type": "markdown",
   "id": "danish-liability",
   "metadata": {},
   "source": [
    "**Next, we'll load Giotto.**"
   ]
  },
  {
   "cell_type": "code",
   "execution_count": null,
   "id": "enormous-nigeria",
   "metadata": {
    "scrolled": true
   },
   "outputs": [],
   "source": [
    "library(Giotto)"
   ]
  },
  {
   "cell_type": "markdown",
   "id": "experienced-saint",
   "metadata": {},
   "source": [
    "Since we're using Binder, this will always be our first time installing a Giotto environment, so we can use the following command:"
   ]
  },
  {
   "cell_type": "code",
   "execution_count": null,
   "id": "advanced-monaco",
   "metadata": {},
   "outputs": [],
   "source": [
    "installGiottoEnvironment()"
   ]
  },
  {
   "cell_type": "markdown",
   "id": "frank-australian",
   "metadata": {},
   "source": [
    "However, if you're working locally, please uncomment the following cell and choose the command that works for your needs:"
   ]
  },
  {
   "cell_type": "code",
   "execution_count": null,
   "id": "confidential-raleigh",
   "metadata": {},
   "outputs": [],
   "source": [
    "# # to re-install the environment\n",
    "# installGiottoEnvironment(force_environment = TRUE)\n",
    "\n",
    "# # to re-install mini-conda and environment\n",
    "# installGiottoEnvironment(force_miniconda = TRUE)\n",
    "\n",
    "# # to remove the environment\n",
    "# removeGiottoEnvironment()"
   ]
  },
  {
   "cell_type": "markdown",
   "id": "uniform-struggle",
   "metadata": {},
   "source": [
    "### 2. Now we'll create our [Giotto object](https://rubd.github.io/Giotto_site/articles/tut1_giotto_object.html)\n",
    "\n",
    "We're going to use the mini [seqFISH data](https://rubd.github.io/Giotto_site/articles/mini_seqfish.html) in this example. \n",
    "\n",
    "---------------------------"
   ]
  },
  {
   "cell_type": "markdown",
   "id": "voluntary-attitude",
   "metadata": {},
   "source": [
    "There are 2 requirements for creating a Giotto object:\n",
    "- expression matrix\n",
    "- spatial locations\n",
    "\n",
    "We can load this data directly below:"
   ]
  },
  {
   "cell_type": "code",
   "execution_count": null,
   "id": "daily-container",
   "metadata": {},
   "outputs": [],
   "source": [
    "# 1. directly from the file paths\n",
    "path_to_matrix = system.file(\"extdata\", \"seqfish_field_expr.txt\", package = 'Giotto')\n",
    "path_to_locations = system.file(\"extdata\", \"seqfish_field_locs.txt\", package = 'Giotto')"
   ]
  },
  {
   "cell_type": "markdown",
   "id": "spanish-impact",
   "metadata": {},
   "source": [
    "If you want to use your own data, you can use the following code: "
   ]
  },
  {
   "cell_type": "code",
   "execution_count": null,
   "id": "armed-attachment",
   "metadata": {},
   "outputs": [],
   "source": [
    "# 2. use an existing matrix and data.table\n",
    "expression_matrix = readExprMatrix(path_to_matrix) # fast method to read expression matrix\n",
    "cell_locations = data.table::fread(path_to_locations)"
   ]
  },
  {
   "cell_type": "markdown",
   "id": "controversial-purpose",
   "metadata": {},
   "source": [
    "Regardless, now that you have your data, you can create a Giotto object!\n",
    "\n",
    "Note that you can add instructions to this as well if necessary. "
   ]
  },
  {
   "cell_type": "code",
   "execution_count": null,
   "id": "proprietary-correction",
   "metadata": {},
   "outputs": [],
   "source": [
    "my_giotto_object = createGiottoObject(raw_exprs = path_to_matrix,\n",
    "                                      spatial_locs = path_to_locations)"
   ]
  }
 ],
 "metadata": {
  "kernelspec": {
   "display_name": "R",
   "language": "R",
   "name": "ir"
  },
  "language_info": {
   "codemirror_mode": "r",
   "file_extension": ".r",
   "mimetype": "text/x-r-source",
   "name": "R",
   "pygments_lexer": "r",
   "version": "4.0.4"
  }
 },
 "nbformat": 4,
 "nbformat_minor": 5
}
