{
 "cells": [
  {
   "cell_type": "markdown",
   "id": "productive-sigma",
   "metadata": {},
   "source": [
    "# Hidden Markov Random Field (HMRF) model \n",
    "\n",
    "In this notebook, we will explore spatial domains with the HMRF model\n",
    "\n",
    "---\n",
    "First, we will import our pre-processed object:"
   ]
  },
  {
   "cell_type": "code",
   "execution_count": null,
   "id": "correct-struggle",
   "metadata": {},
   "outputs": [],
   "source": [
    "source(\"scripts//spatial_pre_process.R\")"
   ]
  },
  {
   "cell_type": "markdown",
   "id": "thorough-subject",
   "metadata": {},
   "source": [
    "And run binSpect:"
   ]
  },
  {
   "cell_type": "code",
   "execution_count": null,
   "id": "mighty-denial",
   "metadata": {},
   "outputs": [],
   "source": [
    "# identify genes with a spatial coherent expression profile\n",
    "km_spatialgenes = binSpect(my_giotto_object, bin_method = 'kmeans')"
   ]
  },
  {
   "cell_type": "markdown",
   "id": "needed-frontier",
   "metadata": {},
   "source": [
    "### 1. Perform HMRF\n",
    "\n",
    "_note: this will create a folder in your working directory_\n",
    "\n",
    "\n",
    "Now we'll install our HMRF package and run the [HMRF](https://rubd.github.io/Giotto_site/reference/doHMRF.html):"
   ]
  },
  {
   "cell_type": "code",
   "execution_count": null,
   "id": "greenhouse-personality",
   "metadata": {
    "scrolled": false
   },
   "outputs": [],
   "source": [
    "remotes::install_bitbucket(repo = 'qzhudfci/smfishhmrf-r', ref='master')\n",
    "# perform hmrf\n",
    "my_spatial_genes = km_spatialgenes[1:100]$genes\n",
    "HMRF_spatial_genes = doHMRF(gobject = my_giotto_object,\n",
    "                            expression_values = 'scaled',\n",
    "                            spatial_genes = my_spatial_genes,\n",
    "                            spatial_network_name = 'Delaunay_network',\n",
    "                            k = 9,\n",
    "                            betas = c(28,2,2))\n"
   ]
  },
  {
   "cell_type": "markdown",
   "id": "synthetic-finish",
   "metadata": {},
   "source": [
    "### 2. Now we can visualize our results:"
   ]
  },
  {
   "cell_type": "code",
   "execution_count": null,
   "id": "neural-heating",
   "metadata": {},
   "outputs": [],
   "source": [
    "# check and visualize hmrf results\n",
    "# for(i in seq(28, 30, by = 2)) {\n",
    "#   viewHMRFresults2D(gobject = my_giotto_object,\n",
    "#                     HMRFoutput = HMRF_spatial_genes,\n",
    "#                     k = 9, betas_to_view = i,\n",
    "#                     point_size = 2)\n",
    "# }\n",
    "\n",
    "my_giotto_object = addHMRF(gobject = my_giotto_object,\n",
    "                  HMRFoutput = HMRF_spatial_genes,\n",
    "                  k = 9, betas_to_add = c(28),\n",
    "                  hmrf_name = 'HMRF')\n",
    "\n",
    "# visualize selected hmrf result\n",
    "giotto_colors = Giotto:::getDistinctColors(9)\n",
    "names(giotto_colors) = 1:9\n",
    "spatPlot(gobject = my_giotto_object, cell_color = 'HMRF_k9_b.28',\n",
    "         point_size = 3, coord_fix_ratio = 1, cell_color_code = giotto_colors)[0]"
   ]
  }
 ],
 "metadata": {
  "kernelspec": {
   "display_name": "R",
   "language": "R",
   "name": "ir"
  },
  "language_info": {
   "codemirror_mode": "r",
   "file_extension": ".r",
   "mimetype": "text/x-r-source",
   "name": "R",
   "pygments_lexer": "r",
   "version": "4.0.4"
  }
 },
 "nbformat": 4,
 "nbformat_minor": 5
}
