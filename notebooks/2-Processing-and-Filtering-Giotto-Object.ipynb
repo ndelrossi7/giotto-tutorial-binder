{
 "cells": [
  {
   "cell_type": "markdown",
   "id": "constant-chest",
   "metadata": {},
   "source": [
    "# Processing and filtering our Giotto object\n",
    "\n",
    "\n",
    "In this notebook, we'll show you how to start some pre-processing and filtering with your Giotto object."
   ]
  },
  {
   "cell_type": "markdown",
   "id": "southwest-makeup",
   "metadata": {},
   "source": [
    "### 1. Installing our Giotto object\n",
    "We need to get our Giotto object set up first - please refer to this [notebook](https://github.com/ndelrossi7/r-conda-binder/blob/main/notebooks/1-Creating-a-Giotto-Object.ipynb) for more information and an explanation of the following steps.\n",
    "\n",
    "- First, we'll install and load Giotto and then load our mini-conda environment. "
   ]
  },
  {
   "cell_type": "code",
   "execution_count": 1,
   "id": "positive-source",
   "metadata": {},
   "outputs": [
    {
     "name": "stderr",
     "output_type": "stream",
     "text": [
      "Downloading GitHub repo RubD/Giotto@suite\n",
      "\n"
     ]
    },
    {
     "name": "stdout",
     "output_type": "stream",
     "text": [
      "RcppArmad... (0.10.2.1.0 -> 0.10.2.2.0) [CRAN]\n",
      "xfun         (0.21       -> 0.22      ) [CRAN]\n",
      "magick       (2.6.0      -> 2.7.0     ) [CRAN]\n"
     ]
    },
    {
     "name": "stderr",
     "output_type": "stream",
     "text": [
      "Installing 3 packages: RcppArmadillo, xfun, magick\n",
      "\n"
     ]
    },
    {
     "name": "stdout",
     "output_type": "stream",
     "text": [
      "\n",
      "  There is a binary version available but the source version is later:\n",
      "     binary source needs_compilation\n",
      "xfun   0.21   0.22              TRUE\n",
      "\n",
      "\n",
      "The downloaded binary packages are in\n",
      "\t/var/folders/7l/ywb2dnxs20g2zl3_1mksk4mh0000gp/T//RtmpDpEiLB/downloaded_packages\n"
     ]
    },
    {
     "name": "stderr",
     "output_type": "stream",
     "text": [
      "installing the source package ‘xfun’\n",
      "\n",
      "\n"
     ]
    },
    {
     "name": "stdout",
     "output_type": "stream",
     "text": [
      "\u001b[32m✔\u001b[39m  \u001b[90mchecking for file ‘/private/var/folders/7l/ywb2dnxs20g2zl3_1mksk4mh0000gp/T/RtmpDpEiLB/remotes764835890358/RubD-Giotto-c91d7a0/DESCRIPTION’\u001b[39m\u001b[36m\u001b[39m\n",
      "\u001b[90m─\u001b[39m\u001b[90m  \u001b[39m\u001b[90mpreparing ‘Giotto’:\u001b[39m\u001b[36m\u001b[39m\n",
      "\u001b[32m✔\u001b[39m  \u001b[90mchecking DESCRIPTION meta-information\u001b[39m\u001b[36m\u001b[39m\n",
      "\u001b[90m─\u001b[39m\u001b[90m  \u001b[39m\u001b[90mcleaning src\u001b[39m\u001b[36m\u001b[39m\n",
      "\u001b[90m─\u001b[39m\u001b[90m  \u001b[39m\u001b[90mchecking for LF line-endings in source and make files and shell scripts\u001b[39m\u001b[36m\u001b[36m (398ms)\u001b[36m\u001b[39m\n",
      "\u001b[90m─\u001b[39m\u001b[90m  \u001b[39m\u001b[90mchecking for empty or unneeded directories\u001b[39m\u001b[36m\u001b[39m\n",
      "   Removed empty directory ‘Giotto/src’\n",
      "\u001b[90m─\u001b[39m\u001b[90m  \u001b[39m\u001b[90mbuilding ‘Giotto_2.0.0.9016.tar.gz’\u001b[39m\u001b[36m\u001b[39m\n",
      "   \n",
      "\n",
      " giotto environment found at \n",
      " /Users/Natalie_1/Library/r-miniconda/envs/giotto_env/bin/pythonw \n",
      "Giotto environment is already installed, set force_environment = TRUE to reinstall \n"
     ]
    }
   ],
   "source": [
    "remotes::install_github(\"RubD/Giotto@suite\")\n",
    "library(Giotto)\n",
    "installGiottoEnvironment()"
   ]
  },
  {
   "cell_type": "markdown",
   "id": "incoming-attention",
   "metadata": {},
   "source": [
    "- Now we'll create our Giotto object"
   ]
  },
  {
   "cell_type": "code",
   "execution_count": 2,
   "id": "cordless-player",
   "metadata": {},
   "outputs": [
    {
     "name": "stdout",
     "output_type": "stream",
     "text": [
      "Consider to install these (optional) packages to run all possible Giotto commands:  MAST tiff biomaRt trendsceek multinet RTriangle FactoMiner\n",
      " Giotto does not automatically install all these packages as they are not absolutely required and this reduces the number of dependencies \n"
     ]
    },
    {
     "name": "stderr",
     "output_type": "stream",
     "text": [
      "Warning message in createGiottoObject(raw_exprs = path_to_matrix, spatial_locs = path_to_locations):\n",
      "“raw_exprs argument is deprecated, use expression argument in the future \n",
      "”\n"
     ]
    },
    {
     "name": "stdout",
     "output_type": "stream",
     "text": [
      "List of 1\n",
      " $ raw: chr \"/Library/Frameworks/R.framework/Versions/4.0/Resources/library/Giotto/extdata/seqfish_field_expr.txt\"\n",
      "NULL\n"
     ]
    },
    {
     "name": "stderr",
     "output_type": "stream",
     "text": [
      "Depth of provided expression list is 1, working with one type of molecular feature \n",
      "\n",
      "\n"
     ]
    },
    {
     "name": "stdout",
     "output_type": "stream",
     "text": [
      "\n",
      " no external python path was provided, but a giotto python environment was found and will be used \n"
     ]
    }
   ],
   "source": [
    "path_to_matrix = system.file(\"extdata\", \"seqfish_field_expr.txt\", package = 'Giotto')\n",
    "path_to_locations = system.file(\"extdata\", \"seqfish_field_locs.txt\", package = 'Giotto')\n",
    "\n",
    "my_giotto_object = createGiottoObject(raw_exprs = path_to_matrix,\n",
    "                                      spatial_locs = path_to_locations)"
   ]
  },
  {
   "cell_type": "markdown",
   "id": "temporal-folks",
   "metadata": {},
   "source": [
    "### 2. Filter our object\n",
    "We can filter our Giotto object based on gene and cell coverage."
   ]
  },
  {
   "cell_type": "code",
   "execution_count": 11,
   "id": "diagnostic-adult",
   "metadata": {},
   "outputs": [],
   "source": [
    "my_giotto_object <- filterGiotto(gobject = my_giotto_object, \n",
    "                                 expression_threshold = 1, \n",
    "                                 feat_det_in_min_cells = 10, \n",
    "                                 min_det_feats_per_cell = 5)"
   ]
  },
  {
   "cell_type": "markdown",
   "id": "accomplished-beatles",
   "metadata": {},
   "source": [
    "### 3. Normalize"
   ]
  },
  {
   "cell_type": "code",
   "execution_count": 4,
   "id": "distant-playback",
   "metadata": {},
   "outputs": [
    {
     "name": "stdout",
     "output_type": "stream",
     "text": [
      "\n",
      " first scale feats and then cells \n"
     ]
    }
   ],
   "source": [
    "my_giotto_object <- normalizeGiotto(gobject = my_giotto_object, scalefactor = 6000, verbose = T)"
   ]
  },
  {
   "cell_type": "markdown",
   "id": "particular-governor",
   "metadata": {},
   "source": [
    "### 4. Add gene and cell statistics"
   ]
  },
  {
   "cell_type": "code",
   "execution_count": 5,
   "id": "nonprofit-spectrum",
   "metadata": {},
   "outputs": [],
   "source": [
    "my_giotto_object <- addStatistics(gobject = my_giotto_object)"
   ]
  },
  {
   "cell_type": "markdown",
   "id": "known-mechanics",
   "metadata": {},
   "source": [
    "### 5. Adjust our matrix\n",
    "for technical covariates or batch effects"
   ]
  },
  {
   "cell_type": "code",
   "execution_count": 9,
   "id": "nearby-excellence",
   "metadata": {},
   "outputs": [],
   "source": [
    "my_giotto_object <- adjustGiottoMatrix(gobject = my_giotto_object, \n",
    "                                       expression_values = c('normalized'),\n",
    "                                       covariate_columns = c('nr_genes', 'total_expr'))"
   ]
  }
 ],
 "metadata": {
  "kernelspec": {
   "display_name": "R",
   "language": "R",
   "name": "ir"
  },
  "language_info": {
   "codemirror_mode": "r",
   "file_extension": ".r",
   "mimetype": "text/x-r-source",
   "name": "R",
   "pygments_lexer": "r",
   "version": "4.0.4"
  }
 },
 "nbformat": 4,
 "nbformat_minor": 5
}
