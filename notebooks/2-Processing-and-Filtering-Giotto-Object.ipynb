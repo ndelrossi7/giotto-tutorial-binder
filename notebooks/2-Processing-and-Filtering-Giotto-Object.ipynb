{
 "cells": [
  {
   "cell_type": "markdown",
   "id": "polar-array",
   "metadata": {},
   "source": [
    "# Processing and filtering our Giotto object\n",
    "\n",
    "\n",
    "In this notebook, we'll show you how to start some pre-processing and filtering with your Giotto object."
   ]
  },
  {
   "cell_type": "markdown",
   "id": "violent-print",
   "metadata": {},
   "source": [
    "### 1. Installing our Giotto object\n",
    "We need to get our Giotto object set up first - please refer to this [notebook](https://github.com/ndelrossi7/r-conda-binder/blob/main/notebooks/1-Creating-a-Giotto-Object.ipynb) for more information and an explanation of the following steps.\n",
    "\n",
    "- First, we'll install and load Giotto and then load our mini-conda environment. "
   ]
  },
  {
   "cell_type": "code",
   "execution_count": null,
   "id": "drawn-helicopter",
   "metadata": {},
   "outputs": [],
   "source": [
    "remotes::install_github(\"RubD/Giotto@cless\")\n",
    "library(Giotto)\n",
    "installGiottoEnvironment()"
   ]
  },
  {
   "cell_type": "markdown",
   "id": "liked-preview",
   "metadata": {},
   "source": [
    "- Now we'll create our Giotto object"
   ]
  },
  {
   "cell_type": "code",
   "execution_count": null,
   "id": "rotary-mixer",
   "metadata": {},
   "outputs": [],
   "source": [
    "path_to_matrix = system.file(\"extdata\", \"seqfish_field_expr.txt\", package = 'Giotto')\n",
    "path_to_locations = system.file(\"extdata\", \"seqfish_field_locs.txt\", package = 'Giotto')\n",
    "\n",
    "my_giotto_object = createGiottoObject(raw_exprs = path_to_matrix,\n",
    "                                      spatial_locs = path_to_locations)"
   ]
  },
  {
   "cell_type": "markdown",
   "id": "rough-pittsburgh",
   "metadata": {},
   "source": [
    "### 2. Filter our object\n",
    "We can filter our Giotto object based on gene and cell coverage."
   ]
  },
  {
   "cell_type": "code",
   "execution_count": null,
   "id": "little-desire",
   "metadata": {},
   "outputs": [],
   "source": [
    "my_giotto_object <- filterGiotto(gobject = my_giotto_object, \n",
    "                                 expression_threshold = 1, \n",
    "                                 gene_det_in_min_cells = 10, \n",
    "                                 min_det_genes_per_cell = 5)"
   ]
  },
  {
   "cell_type": "markdown",
   "id": "egyptian-church",
   "metadata": {},
   "source": [
    "### 3. Normalize"
   ]
  },
  {
   "cell_type": "code",
   "execution_count": null,
   "id": "legendary-outside",
   "metadata": {},
   "outputs": [],
   "source": [
    "my_giotto_object <- normalizeGiotto(gobject = my_giotto_object, scalefactor = 6000, verbose = T)"
   ]
  },
  {
   "cell_type": "markdown",
   "id": "middle-rebate",
   "metadata": {},
   "source": [
    "### 4. Add gene and cell statistics"
   ]
  },
  {
   "cell_type": "code",
   "execution_count": null,
   "id": "cosmetic-state",
   "metadata": {},
   "outputs": [],
   "source": [
    "my_giotto_object <- addStatistics(gobject = my_giotto_object)"
   ]
  },
  {
   "cell_type": "markdown",
   "id": "changed-eating",
   "metadata": {},
   "source": [
    "### 5. Adjust our matrix\n",
    "for technical covariates or batch effects"
   ]
  },
  {
   "cell_type": "code",
   "execution_count": null,
   "id": "desperate-north",
   "metadata": {},
   "outputs": [],
   "source": [
    "path_to_locations"
   ]
  },
  {
   "cell_type": "code",
   "execution_count": null,
   "id": "disabled-disabled",
   "metadata": {
    "scrolled": true
   },
   "outputs": [],
   "source": [
    "my_giotto_object <- adjustGiottoMatrix(gobject = my_giotto_object, \n",
    "                                       expression_values = c('normalized'),\n",
    "                                       covariate_columns = c('nr_genes', 'total_expr'))"
   ]
  }
 ],
 "metadata": {
  "kernelspec": {
   "display_name": "R",
   "language": "R",
   "name": "ir"
  },
  "language_info": {
   "codemirror_mode": "r",
   "file_extension": ".r",
   "mimetype": "text/x-r-source",
   "name": "R",
   "pygments_lexer": "r",
   "version": "4.0.4"
  }
 },
 "nbformat": 4,
 "nbformat_minor": 5
}
