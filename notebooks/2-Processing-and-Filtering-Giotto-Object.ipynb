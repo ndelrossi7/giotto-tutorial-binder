{
 "cells": [
  {
   "cell_type": "markdown",
   "id": "split-ready",
   "metadata": {},
   "source": [
    "# Processing and filtering our Giotto object\n",
    "\n",
    "\n",
    "In this notebook, we'll show you how to start some pre-processing and filtering with your Giotto object.\n",
    "\n",
    "----------"
   ]
  },
  {
   "cell_type": "markdown",
   "id": "desirable-nickel",
   "metadata": {},
   "source": [
    "### 1. Installing our Giotto object\n",
    "We need to get our Giotto object set up first - please refer to this [notebook](https://github.com/ndelrossi7/r-conda-binder/blob/main/notebooks/1-Creating-a-Giotto-Object.ipynb) for more information and an explanation of the following steps.\n",
    "\n",
    "- First, we'll install and load Giotto and then load our mini-conda environment. "
   ]
  },
  {
   "cell_type": "code",
   "execution_count": null,
   "id": "worst-master",
   "metadata": {},
   "outputs": [],
   "source": [
    "remotes::install_github(\"RubD/Giotto@cless\")\n",
    "library(Giotto)\n",
    "my_instructions = createGiottoInstructions(python_path = \"/srv/conda/envs/notebook/bin/python\")"
   ]
  },
  {
   "cell_type": "markdown",
   "id": "operating-drink",
   "metadata": {},
   "source": [
    "- Now we'll create our Giotto object"
   ]
  },
  {
   "cell_type": "code",
   "execution_count": null,
   "id": "arctic-spiritual",
   "metadata": {},
   "outputs": [],
   "source": [
    "path_to_matrix = system.file(\"extdata\", \"seqfish_field_expr.txt\", package = 'Giotto')\n",
    "path_to_locations = system.file(\"extdata\", \"seqfish_field_locs.txt\", package = 'Giotto')\n",
    "\n",
    "my_giotto_object = createGiottoObject(raw_exprs = path_to_matrix,\n",
    "                                      spatial_locs = path_to_locations,\n",
    "                                      instructions = my_instructions)"
   ]
  },
  {
   "cell_type": "markdown",
   "id": "sunset-compiler",
   "metadata": {},
   "source": [
    "### 2. Filter our object\n",
    "We can [filter](https://rubd.github.io/Giotto_site/reference/filterGiotto.html) our Giotto object based on gene and cell coverage."
   ]
  },
  {
   "cell_type": "code",
   "execution_count": null,
   "id": "limited-protocol",
   "metadata": {},
   "outputs": [],
   "source": [
    "my_giotto_object <- filterGiotto(gobject = my_giotto_object, \n",
    "                                 expression_threshold = 1, \n",
    "                                 gene_det_in_min_cells = 10, \n",
    "                                 min_det_genes_per_cell = 5)"
   ]
  },
  {
   "cell_type": "markdown",
   "id": "sporting-pharmaceutical",
   "metadata": {},
   "source": [
    "We can also check out how many genes and cells are lost with [combinations](https://rubd.github.io/Giotto_site/reference/filterCombinations.html) of thresholds."
   ]
  },
  {
   "cell_type": "code",
   "execution_count": null,
   "id": "noted-eating",
   "metadata": {
    "scrolled": true
   },
   "outputs": [],
   "source": [
    "filterCombinations(my_giotto_object,\n",
    "                   gene_det_in_min_cells = c(2, 4, 8),\n",
    "                   min_det_genes_per_cell = c(5, 10, 20))[0]"
   ]
  },
  {
   "cell_type": "markdown",
   "id": "imperial-elements",
   "metadata": {},
   "source": [
    "### 3. Normalize\n",
    "\n",
    "We can normalize or scale the expression values of our Giotto object. More information on normalization methods can be found [here](https://rubd.github.io/Giotto_site/reference/normalizeGiotto.html) under details."
   ]
  },
  {
   "cell_type": "code",
   "execution_count": null,
   "id": "certified-fleece",
   "metadata": {
    "scrolled": true
   },
   "outputs": [],
   "source": [
    "my_giotto_object <- normalizeGiotto(gobject = my_giotto_object, scalefactor = 6000, verbose = T)"
   ]
  },
  {
   "cell_type": "markdown",
   "id": "formal-louisville",
   "metadata": {},
   "source": [
    "### 4. Add gene and cell statistics\n",
    "\n",
    "Now we can add some gene and cell [statistics](https://rubd.github.io/Giotto_site/reference/addStatistics.html) to our Giotto object."
   ]
  },
  {
   "cell_type": "code",
   "execution_count": null,
   "id": "advised-triumph",
   "metadata": {
    "scrolled": true
   },
   "outputs": [],
   "source": [
    "my_giotto_object <- addStatistics(gobject = my_giotto_object)"
   ]
  },
  {
   "cell_type": "code",
   "execution_count": null,
   "id": "conditional-conclusion",
   "metadata": {},
   "outputs": [],
   "source": [
    "# Cell stats\n",
    "head(my_giotto_object@cell_metadata, 10)"
   ]
  },
  {
   "cell_type": "code",
   "execution_count": null,
   "id": "conventional-volunteer",
   "metadata": {},
   "outputs": [],
   "source": [
    "# Gene stats\n",
    "head(my_giotto_object@gene_metadata, 10)"
   ]
  },
  {
   "cell_type": "markdown",
   "id": "clean-boxing",
   "metadata": {},
   "source": [
    "### 5. Adjust our matrix\n",
    "And we can [adjust](https://rubd.github.io/Giotto_site/reference/adjustGiottoMatrix.html) our expression values to account for known batch effects or technological covariates."
   ]
  },
  {
   "cell_type": "code",
   "execution_count": null,
   "id": "partial-active",
   "metadata": {
    "scrolled": true
   },
   "outputs": [],
   "source": [
    "my_giotto_object <- adjustGiottoMatrix(gobject = my_giotto_object, \n",
    "                                       expression_values = c('normalized'),\n",
    "                                       covariate_columns = c('nr_genes', 'total_expr'))"
   ]
  }
 ],
 "metadata": {
  "kernelspec": {
   "display_name": "R",
   "language": "R",
   "name": "ir"
  },
  "language_info": {
   "codemirror_mode": "r",
   "file_extension": ".r",
   "mimetype": "text/x-r-source",
   "name": "R",
   "pygments_lexer": "r",
   "version": "4.0.4"
  }
 },
 "nbformat": 4,
 "nbformat_minor": 5
}
