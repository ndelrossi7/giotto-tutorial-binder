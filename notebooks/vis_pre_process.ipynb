{
 "cells": [
  {
   "cell_type": "markdown",
   "id": "disabled-bankruptcy",
   "metadata": {},
   "source": [
    "# Visium pipeline runthrough\n",
    "------\n",
    "In this notebook, we'll go through how to utilize Giotto for visium data. While there are some notebooks that will use visium data in this tutorial, the majority use the seqFISH dataset. You can use this notebook or the script ```vis_obj.R``` as reference."
   ]
  },
  {
   "cell_type": "markdown",
   "id": "civil-bearing",
   "metadata": {},
   "source": [
    "First, we'll install Giotto:"
   ]
  },
  {
   "cell_type": "code",
   "execution_count": null,
   "id": "strong-adams",
   "metadata": {},
   "outputs": [],
   "source": [
    "remotes::install_github(\"RubD/Giotto@cless\")"
   ]
  },
  {
   "cell_type": "markdown",
   "id": "elegant-field",
   "metadata": {},
   "source": [
    "And load Giotto:"
   ]
  },
  {
   "cell_type": "code",
   "execution_count": null,
   "id": "composed-custody",
   "metadata": {
    "scrolled": true
   },
   "outputs": [],
   "source": [
    "library(Giotto)"
   ]
  },
  {
   "cell_type": "markdown",
   "id": "accompanied-norwegian",
   "metadata": {},
   "source": [
    "Now we can define our expression, location, and python paths:"
   ]
  },
  {
   "cell_type": "code",
   "execution_count": null,
   "id": "dutch-tamil",
   "metadata": {},
   "outputs": [],
   "source": [
    "# expresstion path\n",
    "expr_path = system.file(\"extdata\", \"visium_DG_expr.txt\", package = 'Giotto')\n",
    "# spatial locations path\n",
    "loc_path = system.file(\"extdata\", \"visium_DG_locs.txt\", package = 'Giotto')\n",
    "# python path\n",
    "my_instructions = createGiottoInstructions(python_path = \"/srv/conda/envs/notebook/bin/python\")"
   ]
  },
  {
   "cell_type": "markdown",
   "id": "seven-packaging",
   "metadata": {},
   "source": [
    "And finally, we can create our Giotto object:"
   ]
  },
  {
   "cell_type": "code",
   "execution_count": null,
   "id": "divine-melbourne",
   "metadata": {},
   "outputs": [],
   "source": [
    "my_visium_object <- createGiottoObject(raw_exprs = expr_path,\n",
    "                                       spatial_locs = loc_path,\n",
    "                                       instructions = my_instructions)"
   ]
  },
  {
   "cell_type": "markdown",
   "id": "convertible-engine",
   "metadata": {},
   "source": []
  },
  {
   "cell_type": "code",
   "execution_count": null,
   "id": "instant-surge",
   "metadata": {},
   "outputs": [],
   "source": [
    "# read image\n",
    "png_path = system.file(\"extdata\", \"deg_image.png\", package = 'Giotto')\n",
    "mg_img = magick::image_read(png_path)"
   ]
  },
  {
   "cell_type": "code",
   "execution_count": null,
   "id": "subjective-sewing",
   "metadata": {},
   "outputs": [],
   "source": [
    "# test and modify image alignment\n",
    "mypl = spatPlot(my_visium_object, return_plot = T, point_alpha = 0.8)\n",
    "orig_png = createGiottoImage(gobject = my_visium_object, mg_object = mg_img, name = 'image',\n",
    "                             xmax_adj = 450, xmin_adj = 550,\n",
    "                             ymax_adj = 200, ymin_adj = 200)\n",
    "mypl_image = addGiottoImageToSpatPlot(mypl, orig_png)\n",
    "mypl_image\n"
   ]
  },
  {
   "cell_type": "code",
   "execution_count": null,
   "id": "clinical-perry",
   "metadata": {},
   "outputs": [],
   "source": [
    "# add image to Giotto object\n",
    "\n",
    "image_list = list(orig_png)\n",
    "my_visium_object = addGiottoImage(gobject = my_visium_object,\n",
    "                             images = image_list)\n",
    "showGiottoImageNames(my_visium_object)"
   ]
  },
  {
   "cell_type": "code",
   "execution_count": null,
   "id": "modified-warning",
   "metadata": {},
   "outputs": [],
   "source": [
    "# explore gene and cell distribution\n",
    "filterDistributions(my_visium_object, detection = 'genes')\n",
    "filterDistributions(my_visium_object, detection = 'cells')\n",
    "filterCombinations(my_visium_object,\n",
    "                   expression_thresholds = c(1),\n",
    "                   gene_det_in_min_cells = c(20, 20, 50, 50),\n",
    "                   min_det_genes_per_cell = c(100, 200, 100, 200))\n",
    "\n",
    "# filter and normalize\n",
    "my_visium_object <- filterGiotto(gobject = my_visium_object,\n",
    "                            expression_threshold = 1,\n",
    "                            gene_det_in_min_cells = 50,\n",
    "                            min_det_genes_per_cell = 100,\n",
    "                            expression_values = c('raw'),\n",
    "                            verbose = T)\n",
    "my_visium_object <- normalizeGiotto(gobject = my_visium_object, scalefactor = 6000, verbose = T)\n",
    "my_visium_object <- addStatistics(gobject = my_visium_object)"
   ]
  },
  {
   "cell_type": "code",
   "execution_count": null,
   "id": "unavailable-photograph",
   "metadata": {},
   "outputs": [],
   "source": [
    "my_visium_object <- calculateHVG(gobject = my_visium_object)\n",
    "\n",
    "my_visium_object <- runPCA(gobject = my_visium_object)\n",
    "screePlot(my_visium_object, ncp = 30)[0]\n",
    "plotPCA(gobject = my_visium_object)[0]\n",
    "\n",
    "my_visium_object <- runUMAP(my_visium_object, dimensions_to_use = 1:10)\n",
    "plotUMAP(gobject = my_visium_object)[0]\n",
    "my_visium_object <- runtSNE(my_visium_object, dimensions_to_use = 1:10)\n",
    "plotTSNE(gobject = my_visium_object)[0]"
   ]
  },
  {
   "cell_type": "code",
   "execution_count": null,
   "id": "temporal-blast",
   "metadata": {},
   "outputs": [],
   "source": [
    "my_visium_object <- createNearestNetwork(gobject = my_visium_object, dimensions_to_use = 1:10, k = 20)\n",
    "my_visium_object <- doLeidenCluster(gobject = my_visium_object, resolution = 0.4, n_iterations = 1000)\n",
    "\n",
    "pDataDT(my_visium_object)\n",
    "\n",
    "# visualize UMAP cluster results\n",
    "plotUMAP(gobject = my_visium_object, cell_color = 'leiden_clus', show_NN_network = T, point_size = 2.5)\n",
    "\n",
    "# visualize UMAP and spatial results\n",
    "spatDimPlot(gobject = my_visium_object, cell_color = 'leiden_clus', spat_point_shape = 'voronoi')\n",
    "\n",
    "# heatmap and dendrogram\n",
    "showClusterHeatmap(gobject = my_visium_object, cluster_column = 'leiden_clus')\n",
    "showClusterDendrogram(my_visium_object, h = 0.5, rotate = T, cluster_column = 'leiden_clus')"
   ]
  },
  {
   "cell_type": "code",
   "execution_count": null,
   "id": "revised-walker",
   "metadata": {
    "scrolled": true
   },
   "outputs": [],
   "source": [
    "scran_markers = findMarkers_one_vs_all(gobject = my_visium_object,\n",
    "                                       method = 'scran',\n",
    "                                       expression_values = 'normalized',\n",
    "                                       cluster_column = 'leiden_clus')\n",
    "# # violinplot\n",
    "# topgenes_scran = scran_markers[, head(.SD, 2), by = 'cluster']$genes\n",
    "# violinPlot(my_visium_object, genes = topgenes_scran, cluster_column = 'leiden_clus',\n",
    "#            strip_text = 10, strip_position = 'right')\n",
    "\n",
    "# # metadata heatmap\n",
    "# topgenes_scran = scran_markers[, head(.SD, 6), by = 'cluster']$genes\n",
    "# plotMetaDataHeatmap(my_visium_object, selected_genes = topgenes_scran,\n",
    "#                     metadata_cols = c('leiden_clus'))"
   ]
  },
  {
   "cell_type": "code",
   "execution_count": null,
   "id": "upset-leeds",
   "metadata": {},
   "outputs": [],
   "source": [
    "\n",
    "cluster_cell_types = c('Gfap_cells', 'Tbr1_cells', 'Tcf7l2_cells', 'Wfs1_cells', 'Nptxr_cells')\n",
    "names(cluster_cell_types) = 1:5\n",
    "my_visium_object = annotateGiotto(gobject = my_visium_object, annotation_vector = cluster_cell_types,\n",
    "                             cluster_column = 'leiden_clus', name = 'cluster_cell_types')\n",
    "\n",
    "# check new cell metadata\n",
    "pDataDT(my_visium_object)\n",
    "\n",
    "# visualize annotations\n",
    "spatDimPlot(gobject = my_visium_object, cell_color = 'cluster_cell_types', spat_point_size = 3, dim_point_size = 3)"
   ]
  },
  {
   "cell_type": "code",
   "execution_count": null,
   "id": "bibliographic-checkout",
   "metadata": {},
   "outputs": [],
   "source": [
    "## cell type signatures ##\n",
    "## combination of all marker genes identified in Zeisel et al\n",
    "sign_matrix_path = system.file(\"extdata\", \"sig_matrix.txt\", package = 'Giotto')\n",
    "brain_sc_markers = data.table::fread(sign_matrix_path) # file don't exist in data folder\n",
    "sig_matrix = as.matrix(brain_sc_markers[,-1]); rownames(sig_matrix) = brain_sc_markers$Event\n",
    "\n",
    "## enrichment tests\n",
    "my_visium_object = runSpatialEnrich(my_visium_object, \n",
    "                               sign_matrix = sig_matrix, \n",
    "                               enrich_method = 'PAGE') #default = 'PAGE'\n",
    "\n",
    "## heatmap of enrichment versus annotation (e.g. clustering result)\n",
    "cell_types = colnames(sig_matrix)\n",
    "plotMetaDataCellsHeatmap(gobject = my_visium_object,\n",
    "                         metadata_cols = 'leiden_clus',\n",
    "                         value_cols = cell_types,\n",
    "                         spat_enr_names = 'PAGE',\n",
    "                         x_text_size = 8, y_text_size = 8)\n",
    "\n",
    "\n",
    "enrichment_results = my_visium_object@spatial_enrichment$PAGE\n",
    "enrich_cell_types = colnames(enrichment_results)\n",
    "enrich_cell_types = enrich_cell_types[enrich_cell_types != 'cell_ID']\n",
    "\n",
    "## spatplot\n",
    "spatCellPlot(gobject = my_visium_object, spat_enr_names = 'PAGE',\n",
    "             cell_annotation_values = enrich_cell_types,\n",
    "             cow_n_col = 3,coord_fix_ratio = NULL, point_size = 1)"
   ]
  },
  {
   "cell_type": "code",
   "execution_count": null,
   "id": "assisted-syndicate",
   "metadata": {},
   "outputs": [],
   "source": [
    "my_visium_object <- createSpatialGrid(gobject = my_visium_object,\n",
    "                                 sdimx_stepsize = 300,\n",
    "                                 sdimy_stepsize = 300,\n",
    "                                 minimum_padding = 50)\n",
    "showGrids(my_visium_object)\n",
    "spatPlot(gobject = my_visium_object, show_grid = T, point_size = 1.5)\n",
    "\n",
    "# extract grid and associated metadata spots\n",
    "annotated_grid = annotateSpatialGrid(my_visium_object)\n",
    "annotated_grid_metadata = annotateSpatialGrid(my_visium_object,\n",
    "                                              cluster_columns = c('leiden_clus', 'cell_types', 'nr_genes'))"
   ]
  },
  {
   "cell_type": "code",
   "execution_count": null,
   "id": "charged-charm",
   "metadata": {},
   "outputs": [],
   "source": [
    "\n",
    "plotStatDelaunayNetwork(gobject = my_visium_object, maximum_distance = 300)\n",
    "my_visium_object = createSpatialNetwork(gobject = my_visium_object, minimum_k = 2, maximum_distance_delaunay = 400)\n",
    "my_visium_object = createSpatialNetwork(gobject = my_visium_object, minimum_k = 2, method = 'kNN', k = 10)\n",
    "showNetworks(my_visium_object)\n",
    "\n",
    "# visualize the two different spatial networks  \n",
    "spatPlot(gobject = my_visium_object, show_network = T,\n",
    "         network_color = 'blue', spatial_network_name = 'Delaunay_network',\n",
    "         point_size = 2.5, cell_color = 'leiden_clus')\n",
    "\n",
    "spatPlot(gobject = my_visium_object, show_network = T,\n",
    "         network_color = 'blue', spatial_network_name = 'kNN_network',\n",
    "         point_size = 2.5, cell_color = 'leiden_clus')"
   ]
  },
  {
   "cell_type": "code",
   "execution_count": null,
   "id": "skilled-assault",
   "metadata": {},
   "outputs": [],
   "source": [
    "km_spatialgenes = binSpect(my_visium_object)\n",
    "spatGenePlot(my_visium_object, expression_values = 'scaled', \n",
    "             genes = km_spatialgenes[1:4]$genes,\n",
    "             point_shape = 'border', point_border_stroke = 0.1,\n",
    "             show_network = F, network_color = 'lightgrey', point_size = 2.5,\n",
    "             cow_n_col = 2)[0]\n",
    "\n",
    "rank_spatialgenes = binSpect(my_visium_object, bin_method = 'rank')\n",
    "spatGenePlot(my_visium_object, expression_values = 'scaled', \n",
    "             genes = rank_spatialgenes[1:4]$genes,\n",
    "             point_shape = 'border', point_border_stroke = 0.1,\n",
    "             show_network = F, network_color = 'lightgrey', point_size = 2.5,\n",
    "             cow_n_col = 2)[0]"
   ]
  },
  {
   "cell_type": "code",
   "execution_count": null,
   "id": "stuck-junction",
   "metadata": {},
   "outputs": [],
   "source": [
    "silh_spatialgenes = silhouetteRank(gobject = my_visium_object) # TODO: suppress print output\n",
    "spatGenePlot(my_visium_object, expression_values = 'scaled', \n",
    "             genes = silh_spatialgenes[1:4]$genes,\n",
    "             point_shape = 'border', point_border_stroke = 0.1,\n",
    "             show_network = F, network_color = 'lightgrey', point_size = 2.5,\n",
    "             cow_n_col = 2)"
   ]
  },
  {
   "cell_type": "code",
   "execution_count": null,
   "id": "exposed-sugar",
   "metadata": {},
   "outputs": [],
   "source": [
    "\n",
    "# 1. calculate spatial correlation scores \n",
    "ext_spatial_genes = km_spatialgenes[1:100]$genes\n",
    "spat_cor_netw_DT = detectSpatialCorGenes(my_visium_object,\n",
    "                                         method = 'network', spatial_network_name = 'Delaunay_network',\n",
    "                                         subset_genes = ext_spatial_genes)\n",
    "\n",
    "# 2. cluster correlation scores\n",
    "spat_cor_netw_DT = clusterSpatialCorGenes(spat_cor_netw_DT, name = 'spat_netw_clus', k = 8)\n",
    "heatmSpatialCorGenes(my_visium_object, spatCorObject = spat_cor_netw_DT, use_clus_name = 'spat_netw_clus')\n",
    "\n",
    "\n",
    "netw_ranks = rankSpatialCorGroups(my_visium_object, spatCorObject = spat_cor_netw_DT, use_clus_name = 'spat_netw_clus')\n",
    "top_netw_spat_cluster = showSpatialCorGenes(spat_cor_netw_DT, use_clus_name = 'spat_netw_clus',\n",
    "                                            selected_clusters = 6, show_top_genes = 1)\n",
    "\n",
    "cluster_genes_DT = showSpatialCorGenes(spat_cor_netw_DT, use_clus_name = 'spat_netw_clus', show_top_genes = 1)\n",
    "cluster_genes = cluster_genes_DT$clus; names(cluster_genes) = cluster_genes_DT$gene_ID\n",
    "\n",
    "my_visium_object = createMetagenes(my_visium_object, gene_clusters = cluster_genes, name = 'cluster_metagene')\n",
    "spatCellPlot(my_visium_object,\n",
    "             spat_enr_names = 'cluster_metagene',\n",
    "             cell_annotation_values = netw_ranks$clusters,\n",
    "             point_size = 1.5, cow_n_col = 3)"
   ]
  }
 ],
 "metadata": {
  "kernelspec": {
   "display_name": "R",
   "language": "R",
   "name": "ir"
  },
  "language_info": {
   "codemirror_mode": "r",
   "file_extension": ".r",
   "mimetype": "text/x-r-source",
   "name": "R",
   "pygments_lexer": "r",
   "version": "4.0.4"
  }
 },
 "nbformat": 4,
 "nbformat_minor": 5
}
