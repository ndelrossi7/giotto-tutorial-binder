{
 "cells": [
  {
   "cell_type": "markdown",
   "id": "lucky-riverside",
   "metadata": {},
   "source": [
    "# Spatial Gene Detection Tools\n",
    "\n",
    "---\n",
    "We need to pre-process our data and we will be importing it below:"
   ]
  },
  {
   "cell_type": "code",
   "execution_count": null,
   "id": "liquid-angel",
   "metadata": {},
   "outputs": [],
   "source": [
    "source(\"scripts//spatial_pre_process.R\")"
   ]
  },
  {
   "cell_type": "markdown",
   "id": "necessary-table",
   "metadata": {},
   "source": [
    "### 1. binSpect k-means\n",
    "We'll start with the [binSpect](https://rubd.github.io/Giotto_site/reference/binSpect.html) k-means method:"
   ]
  },
  {
   "cell_type": "code",
   "execution_count": null,
   "id": "leading-quantum",
   "metadata": {},
   "outputs": [],
   "source": [
    "# binSpect kmeans\n",
    "\n",
    "km_spatialgenes = binSpect(my_giotto_object, bin_method = \"kmeans\")\n",
    "\n",
    "spatGenePlot(my_giotto_object, \n",
    "             expression_values = \"scaled\",\n",
    "             genes = km_spatialgenes[1:2]$genes,\n",
    "             point_size = 3,\n",
    "             point_shape = \"border\",\n",
    "             point_border_stroke = 0.1,\n",
    "             cow_n_col = 2)[0]"
   ]
  },
  {
   "cell_type": "markdown",
   "id": "specialized-dutch",
   "metadata": {},
   "source": [
    "### 2. binSpect rank method"
   ]
  },
  {
   "cell_type": "code",
   "execution_count": null,
   "id": "diagnostic-gross",
   "metadata": {},
   "outputs": [],
   "source": [
    "# binSpect rank method\n",
    "rnk_spatialgenes = binSpect(my_giotto_object, bin_method = 'rank')\n",
    "\n",
    "spatGenePlot(my_giotto_object, expression_values = 'scaled', \n",
    "             genes = rnk_spatialgenes[1:2]$genes, point_size = 3,\n",
    "             point_shape = 'border', point_border_stroke = 0.1, cow_n_col = 2)[0]"
   ]
  },
  {
   "cell_type": "markdown",
   "id": "russian-earth",
   "metadata": {},
   "source": [
    "### 3. Silhouette rank method\n",
    "We can also take a look at the [silhouette rank](https://rubd.github.io/Giotto_site/reference/silhouetteRank.html) method:"
   ]
  },
  {
   "cell_type": "code",
   "execution_count": null,
   "id": "infectious-lighting",
   "metadata": {},
   "outputs": [],
   "source": [
    "# silhouetteRank method\n",
    "silh_spatialgenes = silhouetteRank(my_giotto_object)\n",
    "\n",
    "spatGenePlot(my_giotto_object, expression_values = 'scaled', \n",
    "             genes = silh_spatialgenes[1:2]$genes,  point_size = 3,\n",
    "             point_shape = 'border', point_border_stroke = 0.1, cow_n_col = 2)[0]"
   ]
  },
  {
   "cell_type": "markdown",
   "id": "reserved-notebook",
   "metadata": {},
   "source": [
    "### 4. Spatial IDE Method\n",
    "We'll use the [Spatial IDE](https://rubd.github.io/Giotto_site/reference/spatialDE.html) method below. Installation is required and is provided in the imported script. "
   ]
  },
  {
   "cell_type": "code",
   "execution_count": null,
   "id": "instant-blake",
   "metadata": {},
   "outputs": [],
   "source": [
    "# spatialDE method\n",
    "spatDE_spatialgenes = spatialDE(my_giotto_object)\n",
    "results = data.table::as.data.table(spatDE_spatialgenes$results)\n",
    "setorder(results, -LLR)\n",
    "\n",
    "spatGenePlot(my_giotto_object, expression_values = 'scaled', \n",
    "             genes = results$g[1:2],  point_size = 3,\n",
    "             point_shape = 'border', point_border_stroke = 0.1, cow_n_col = 2)[0]"
   ]
  },
  {
   "cell_type": "markdown",
   "id": "caring-colombia",
   "metadata": {},
   "source": [
    "### 5. Spark method\n",
    "Below we'll use the [spark](https://rubd.github.io/Giotto_site/reference/spark.html) method. Additional installation is required and is in the imported script."
   ]
  },
  {
   "cell_type": "code",
   "execution_count": null,
   "id": "pretty-friday",
   "metadata": {},
   "outputs": [],
   "source": [
    "# install is failing - look into local R compiler\n",
    "\n",
    "devtools::install_github('xzhoulab/SPARK')"
   ]
  },
  {
   "cell_type": "code",
   "execution_count": null,
   "id": "vital-species",
   "metadata": {},
   "outputs": [],
   "source": []
  }
 ],
 "metadata": {
  "kernelspec": {
   "display_name": "R",
   "language": "R",
   "name": "ir"
  },
  "language_info": {
   "codemirror_mode": "r",
   "file_extension": ".r",
   "mimetype": "text/x-r-source",
   "name": "R",
   "pygments_lexer": "r",
   "version": "4.0.4"
  }
 },
 "nbformat": 4,
 "nbformat_minor": 5
}
