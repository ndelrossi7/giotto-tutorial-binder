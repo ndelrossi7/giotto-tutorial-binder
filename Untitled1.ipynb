{
 "cells": [
  {
   "cell_type": "code",
   "execution_count": 2,
   "id": "central-recorder",
   "metadata": {},
   "outputs": [
    {
     "data": {
      "text/plain": [
       "               _                           \n",
       "platform       x86_64-apple-darwin17.0     \n",
       "arch           x86_64                      \n",
       "os             darwin17.0                  \n",
       "system         x86_64, darwin17.0          \n",
       "status                                     \n",
       "major          4                           \n",
       "minor          0.4                         \n",
       "year           2021                        \n",
       "month          02                          \n",
       "day            15                          \n",
       "svn rev        80002                       \n",
       "language       R                           \n",
       "version.string R version 4.0.4 (2021-02-15)\n",
       "nickname       Lost Library Book           "
      ]
     },
     "metadata": {},
     "output_type": "display_data"
    }
   ],
   "source": [
    "R.version"
   ]
  },
  {
   "cell_type": "code",
   "execution_count": 3,
   "id": "legendary-schedule",
   "metadata": {},
   "outputs": [
    {
     "name": "stdout",
     "output_type": "stream",
     "text": [
      "\n",
      "The downloaded binary packages are in\n",
      "\t/var/folders/7l/ywb2dnxs20g2zl3_1mksk4mh0000gp/T//Rtmp1hktyl/downloaded_packages\n"
     ]
    }
   ],
   "source": [
    "install.packages(c(\"stringi\", \"glue\", \"remotes\"))\n",
    "library(stringi)\n",
    "library(glue)\n",
    "library(remotes)"
   ]
  },
  {
   "cell_type": "code",
   "execution_count": 4,
   "id": "unable-gamma",
   "metadata": {},
   "outputs": [
    {
     "name": "stderr",
     "output_type": "stream",
     "text": [
      "Skipping install of 'Giotto' from a github remote, the SHA1 (1b60529f) has not changed since last install.\n",
      "  Use `force = TRUE` to force installation\n",
      "\n"
     ]
    }
   ],
   "source": [
    "Sys.setenv(\"R_REMOTES_NO_ERRORS_FROM_WARNINGS\"=TRUE)\n",
    "outputs <- capture.output(tryCatch(remotes::install_github(\"RubD/Giotto@cless\", build_vignettes = F)))"
   ]
  },
  {
   "cell_type": "code",
   "execution_count": null,
   "id": "quiet-reducing",
   "metadata": {},
   "outputs": [],
   "source": []
  }
 ],
 "metadata": {
  "kernelspec": {
   "display_name": "R",
   "language": "R",
   "name": "ir"
  },
  "language_info": {
   "codemirror_mode": "r",
   "file_extension": ".r",
   "mimetype": "text/x-r-source",
   "name": "R",
   "pygments_lexer": "r",
   "version": "4.0.4"
  }
 },
 "nbformat": 4,
 "nbformat_minor": 5
}
